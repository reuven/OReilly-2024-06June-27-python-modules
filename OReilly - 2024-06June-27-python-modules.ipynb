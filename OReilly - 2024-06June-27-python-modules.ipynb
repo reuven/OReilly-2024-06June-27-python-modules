{
 "cells": [
  {
   "cell_type": "markdown",
   "metadata": {},
   "source": [
    "# Agenda: Modules and packages\n",
    "\n",
    "- What are modules? Why do we care about them?\n",
    "- What can a module contain?\n",
    "- The `import` statement\n",
    "- The different forms of `import`\n",
    "- Creating/developing a (simple) module\n",
    "- How do modules even work? (From the inside)\n",
    "- Python's standard library\n",
    "- Modules vs. packages\n",
    "- PyPI, the third-party archive of Python modules/packages\n",
    "- `pip`, which installs modules\n"
   ]
  },
  {
   "cell_type": "markdown",
   "metadata": {},
   "source": [
    "# Intro to modules\n",
    "\n",
    "One of the most important ideas in programming is DRY (don't repeat yourself). If you have code that repeats in your program, you're probably doing something wrong.\n",
    "\n",
    "- If you have several lines in a row that are the same (or close to it), then you can use a loop.\n",
    "- If you have the same code in several places in your program, then you can put them into a function, and invoke the function in various places.\n",
    "- If you have the same code in several different programs, then you'll want to use a *library*.\n",
    "\n",
    "Just about every programming language has libraries. In Python, we call our libraries \"modules.\"\n",
    "\n",
    "What are the advantages of using a module?\n",
    "\n",
    "- We don't have to work as hard; we write the code once, and then refer to it many times.\n",
    "- If/when something goes wrong, we only have to debug/fix the code in one place.\n",
    "- When we read code, there's less to read, and thus to understand/wrap our minds around.\n",
    "- If there's less code, then it will likely run faster.\n",
    "\n",
    "In Python, modules actually do two different things:\n",
    "- They provide us with all of the normal advantages of libraries\n",
    "- Modules also provide us with *namespaces*, ensuring that the variables created in one place don't interfere with those in another place.\n",
    "\n",
    "Python comes with a huge number of modules, right when you download it. These are collectively known as the \"standard library.\" Having the standard library around means that we don't have to write nearly as much code from scratch."
   ]
  },
  {
   "cell_type": "markdown",
   "metadata": {},
   "source": [
    "# Using a module\n",
    "\n",
    "In Python, we can use a module with the `import` statement. There are a bunch of weird things about `import` that you might not have noticed. Let's review them:\n",
    "\n",
    "1. `import` is not a function. So don't use parentheses around its argument.\n",
    "2. `import` is a Python keyword. So you cannot redefine it, even if you want to.\n",
    "3. The argument we give to `import` is not a string. It's not a Python data structure at all. When you `import`, you're really doing two things:\n",
    "    - Creating a new module object, based on the contents of a file on disk\n",
    "    - Defining a variable ... the name that you gave\n",
    "4. If you use an existing variable name after `import`, assuming that it works, you have now overwritten the original value."
   ]
  },
  {
   "cell_type": "code",
   "execution_count": 1,
   "metadata": {},
   "outputs": [],
   "source": [
    "import random"
   ]
  },
  {
   "cell_type": "code",
   "execution_count": 2,
   "metadata": {},
   "outputs": [
    {
     "data": {
      "text/plain": [
       "module"
      ]
     },
     "execution_count": 2,
     "metadata": {},
     "output_type": "execute_result"
    }
   ],
   "source": [
    "type(random)  # what kind of value does the name \"random\" refer to?"
   ]
  },
  {
   "cell_type": "markdown",
   "metadata": {},
   "source": [
    "# Importing stuff from the standard library\n",
    "\n",
    "The standard library is so incredibly huge that there's no need to `import` all of it. Moreover, that would use a ton of memory (and it would take time to load).\n",
    "\n",
    "Some small parts of the standard library are loaded automatically; these are generally referred to as \"builins.\" These things like `str`, `list`, `len`, `dict`, `sum`, etc.\n",
    "\n",
    "But most modules in the standard library are *not* loaded by default, and must be imported."
   ]
  },
  {
   "cell_type": "markdown",
   "metadata": {},
   "source": [
    "# What really happens when we `import`?\n",
    "\n",
    "1. Python looks for the module file\n",
    "    - We cannot specify a file! In other languages, we can give a string, or a path, telling the language where to look. But in Python, we just give the name of the module we want to load.\n",
    "    - Python uses the name that we gave it to look for a file. If we said `import random`, Python looks for `random.py`. That file could be in any of a number of directories; Python looks, one by one, in the locations specified in `sys.path`.\n",
    "2. Once the module is loaded, the variable we specified is now assigned to the module object."
   ]
  },
  {
   "cell_type": "code",
   "execution_count": 3,
   "metadata": {},
   "outputs": [
    {
     "data": {
      "text/plain": [
       "['/Users/reuven/Courses/Current/OReilly-2024-06June-27-python-modules',\n",
       " '/Users/reuven/.pyenv/versions/3.12.1/lib/python312.zip',\n",
       " '/Users/reuven/.pyenv/versions/3.12.1/lib/python3.12',\n",
       " '/Users/reuven/.pyenv/versions/3.12.1/lib/python3.12/lib-dynload',\n",
       " '',\n",
       " '/Users/reuven/.pyenv/versions/3.12.1/lib/python3.12/site-packages']"
      ]
     },
     "execution_count": 3,
     "metadata": {},
     "output_type": "execute_result"
    }
   ],
   "source": [
    "# what is in sys.path?\n",
    "\n",
    "import sys    # this module is special -- it's already loaded into memory, but the variable is not defined without import\n",
    "\n",
    "sys.path   # this is a list of strings, telling us where Python will look for a module we want to load"
   ]
  },
  {
   "cell_type": "markdown",
   "metadata": {},
   "source": [
    "When I say `import random`, Python looks in each directory in `sys.path` for `random.py`.\n",
    "\n",
    "The first directory in `sys.path` is always the one in which the program is located. That allows it to easily import modules in the same directory.\n",
    "\n",
    "It looks:\n",
    "- In the current directory\n",
    "- In the Python standard library\n",
    "- In the list of modules/packages we downloaded from PyPI and installed with `pip`\n",
    "\n",
    "What happens if there are two files with the same name, one in the current directory and the second in the standard library?\n",
    "\n",
    "**BAD THINGS** happen. Don't do that!"
   ]
  },
  {
   "cell_type": "markdown",
   "metadata": {},
   "source": [
    "# What is in a module?\n",
    "\n",
    "A module object is actually pretty simple; it's a warehouse for storing names. Those names are all \"attributes,\" coming after the module's name, separated by a dot, `.`.\n",
    "\n",
    "If I loaded module `random`, then there will be a bunch of names, `random.SOMETHING`, defined in the module. Those could be:\n",
    "\n",
    "- data\n",
    "- functions\n",
    "- classes (new data types)\n",
    "\n",
    "A module can contain any or all of these!\n",
    "\n",
    "How can you know what names are defined, and what they do?"
   ]
  },
  {
   "cell_type": "code",
   "execution_count": 4,
   "metadata": {},
   "outputs": [
    {
     "data": {
      "text/plain": [
       "['BPF',\n",
       " 'LOG4',\n",
       " 'NV_MAGICCONST',\n",
       " 'RECIP_BPF',\n",
       " 'Random',\n",
       " 'SG_MAGICCONST',\n",
       " 'SystemRandom',\n",
       " 'TWOPI',\n",
       " '_ONE',\n",
       " '_Sequence',\n",
       " '__all__',\n",
       " '__builtins__',\n",
       " '__cached__',\n",
       " '__doc__',\n",
       " '__file__',\n",
       " '__loader__',\n",
       " '__name__',\n",
       " '__package__',\n",
       " '__spec__',\n",
       " '_accumulate',\n",
       " '_acos',\n",
       " '_bisect',\n",
       " '_ceil',\n",
       " '_cos',\n",
       " '_e',\n",
       " '_exp',\n",
       " '_fabs',\n",
       " '_floor',\n",
       " '_index',\n",
       " '_inst',\n",
       " '_isfinite',\n",
       " '_lgamma',\n",
       " '_log',\n",
       " '_log2',\n",
       " '_os',\n",
       " '_pi',\n",
       " '_random',\n",
       " '_repeat',\n",
       " '_sha512',\n",
       " '_sin',\n",
       " '_sqrt',\n",
       " '_test',\n",
       " '_test_generator',\n",
       " '_urandom',\n",
       " '_warn',\n",
       " 'betavariate',\n",
       " 'binomialvariate',\n",
       " 'choice',\n",
       " 'choices',\n",
       " 'expovariate',\n",
       " 'gammavariate',\n",
       " 'gauss',\n",
       " 'getrandbits',\n",
       " 'getstate',\n",
       " 'lognormvariate',\n",
       " 'normalvariate',\n",
       " 'paretovariate',\n",
       " 'randbytes',\n",
       " 'randint',\n",
       " 'random',\n",
       " 'randrange',\n",
       " 'sample',\n",
       " 'seed',\n",
       " 'setstate',\n",
       " 'shuffle',\n",
       " 'triangular',\n",
       " 'uniform',\n",
       " 'vonmisesvariate',\n",
       " 'weibullvariate']"
      ]
     },
     "execution_count": 4,
     "metadata": {},
     "output_type": "execute_result"
    }
   ],
   "source": [
    "# get a list of defined names (attributes) in a module with the \"dir\" function\n",
    "\n",
    "dir(random)"
   ]
  },
  {
   "cell_type": "code",
   "execution_count": 5,
   "metadata": {},
   "outputs": [
    {
     "name": "stdout",
     "output_type": "stream",
     "text": [
      "Help on method choice in module random:\n",
      "\n",
      "choice(seq) method of random.Random instance\n",
      "    Choose a random element from a non-empty sequence.\n",
      "\n"
     ]
    }
   ],
   "source": [
    "help(random.choice)"
   ]
  },
  {
   "cell_type": "code",
   "execution_count": 6,
   "metadata": {},
   "outputs": [
    {
     "ename": "NameError",
     "evalue": "name 'randint' is not defined",
     "output_type": "error",
     "traceback": [
      "\u001b[0;31m---------------------------------------------------------------------------\u001b[0m",
      "\u001b[0;31mNameError\u001b[0m                                 Traceback (most recent call last)",
      "Cell \u001b[0;32mIn[6], line 4\u001b[0m\n\u001b[1;32m      1\u001b[0m \u001b[38;5;66;03m# how do I use a function defined in a module?\u001b[39;00m\n\u001b[1;32m      2\u001b[0m \u001b[38;5;66;03m# answer: just like any other function! Don't forget to use the module name, though.\u001b[39;00m\n\u001b[0;32m----> 4\u001b[0m \u001b[43mrandint\u001b[49m(\u001b[38;5;241m0\u001b[39m, \u001b[38;5;241m100\u001b[39m)\n",
      "\u001b[0;31mNameError\u001b[0m: name 'randint' is not defined"
     ]
    }
   ],
   "source": [
    "# how do I use a function defined in a module?\n",
    "# answer: just like any other function! Don't forget to use the module name, though.\n",
    "\n",
    "randint(0, 100)"
   ]
  },
  {
   "cell_type": "code",
   "execution_count": 7,
   "metadata": {},
   "outputs": [
    {
     "data": {
      "text/plain": [
       "57"
      ]
     },
     "execution_count": 7,
     "metadata": {},
     "output_type": "execute_result"
    }
   ],
   "source": [
    "# I'm running the randint function\n",
    "# that was defined in the random module\n",
    "\n",
    "random.randint(0, 100)"
   ]
  },
  {
   "cell_type": "markdown",
   "metadata": {},
   "source": [
    "# Exercise: Guessing game\n",
    "\n",
    "1. Use the `random` module to generate a random integer from 0 to 100.\n",
    "2. Repeatedly ask the user to guess the number:\n",
    "    - If they get it right, then congratulate them and stop the program\n",
    "    - If they're too low or high, tell them, and let them try again"
   ]
  },
  {
   "cell_type": "code",
   "execution_count": 8,
   "metadata": {},
   "outputs": [
    {
     "name": "stdin",
     "output_type": "stream",
     "text": [
      "Enter your guess:  50\n"
     ]
    },
    {
     "name": "stdout",
     "output_type": "stream",
     "text": [
      "Too big; try again!\n"
     ]
    },
    {
     "name": "stdin",
     "output_type": "stream",
     "text": [
      "Enter your guess:  25\n"
     ]
    },
    {
     "name": "stdout",
     "output_type": "stream",
     "text": [
      "Too small; try again!\n"
     ]
    },
    {
     "name": "stdin",
     "output_type": "stream",
     "text": [
      "Enter your guess:  32\n"
     ]
    },
    {
     "name": "stdout",
     "output_type": "stream",
     "text": [
      "Too small; try again!\n"
     ]
    },
    {
     "name": "stdin",
     "output_type": "stream",
     "text": [
      "Enter your guess:  37\n"
     ]
    },
    {
     "name": "stdout",
     "output_type": "stream",
     "text": [
      "Too small; try again!\n"
     ]
    },
    {
     "name": "stdin",
     "output_type": "stream",
     "text": [
      "Enter your guess:  42\n"
     ]
    },
    {
     "name": "stdout",
     "output_type": "stream",
     "text": [
      "You got it!\n"
     ]
    }
   ],
   "source": [
    "import random \n",
    "\n",
    "number = random.randint(0, 100)\n",
    "\n",
    "while True:\n",
    "    guess = input('Enter your guess: ').strip()\n",
    "\n",
    "    n = int(guess)  # assume that the user gave us numeric input\n",
    "\n",
    "    if n == number:\n",
    "        print('You got it!')\n",
    "        break\n",
    "    elif n < number:\n",
    "        print('Too small; try again!')\n",
    "    else:\n",
    "        print('Too big; try again!')"
   ]
  },
  {
   "cell_type": "code",
   "execution_count": 10,
   "metadata": {},
   "outputs": [
    {
     "data": {
      "text/plain": [
       "[(20, 4), (30, 3), (40, 2), (10, 1), (50, 1)]"
      ]
     },
     "execution_count": 10,
     "metadata": {},
     "output_type": "execute_result"
    }
   ],
   "source": [
    "# the Counter class in the collectiosn module allows us to \n",
    "# count how many times an item appears in a sequence\n",
    "\n",
    "from collections import Counter\n",
    "\n",
    "c = Counter([10, 20, 30, 20, 30, 40, 20, 20, 30, 40, 50])\n",
    "c.most_common()"
   ]
  },
  {
   "cell_type": "code",
   "execution_count": 11,
   "metadata": {},
   "outputs": [
    {
     "name": "stdout",
     "output_type": "stream",
     "text": [
      "Help on module random:\n",
      "\n",
      "NAME\n",
      "    random - Random variable generators.\n",
      "\n",
      "MODULE REFERENCE\n",
      "    https://docs.python.org/3.12/library/random.html\n",
      "\n",
      "    The following documentation is automatically generated from the Python\n",
      "    source files.  It may be incomplete, incorrect or include features that\n",
      "    are considered implementation detail and may vary between Python\n",
      "    implementations.  When in doubt, consult the module reference at the\n",
      "    location listed above.\n",
      "\n",
      "DESCRIPTION\n",
      "        bytes\n",
      "        -----\n",
      "               uniform bytes (values between 0 and 255)\n",
      "\n",
      "        integers\n",
      "        --------\n",
      "               uniform within range\n",
      "\n",
      "        sequences\n",
      "        ---------\n",
      "               pick random element\n",
      "               pick random sample\n",
      "               pick weighted random sample\n",
      "               generate random permutation\n",
      "\n",
      "        distributions on the real line:\n",
      "        ------------------------------\n",
      "               uniform\n",
      "               triangular\n",
      "               normal (Gaussian)\n",
      "               lognormal\n",
      "               negative exponential\n",
      "               gamma\n",
      "               beta\n",
      "               pareto\n",
      "               Weibull\n",
      "\n",
      "        distributions on the circle (angles 0 to 2pi)\n",
      "        ---------------------------------------------\n",
      "               circular uniform\n",
      "               von Mises\n",
      "\n",
      "        discrete distributions\n",
      "        ----------------------\n",
      "               binomial\n",
      "\n",
      "\n",
      "    General notes on the underlying Mersenne Twister core generator:\n",
      "\n",
      "    * The period is 2**19937-1.\n",
      "    * It is one of the most extensively tested generators in existence.\n",
      "    * The random() method is implemented in C, executes in a single Python step,\n",
      "      and is, therefore, threadsafe.\n",
      "\n",
      "CLASSES\n",
      "    _random.Random(builtins.object)\n",
      "        Random\n",
      "            SystemRandom\n",
      "\n",
      "    class Random(_random.Random)\n",
      "     |  Random(x=None)\n",
      "     |\n",
      "     |  Random number generator base class used by bound module functions.\n",
      "     |\n",
      "     |  Used to instantiate instances of Random to get generators that don't\n",
      "     |  share state.\n",
      "     |\n",
      "     |  Class Random can also be subclassed if you want to use a different basic\n",
      "     |  generator of your own devising: in that case, override the following\n",
      "     |  methods:  random(), seed(), getstate(), and setstate().\n",
      "     |  Optionally, implement a getrandbits() method so that randrange()\n",
      "     |  can cover arbitrarily large ranges.\n",
      "     |\n",
      "     |  Method resolution order:\n",
      "     |      Random\n",
      "     |      _random.Random\n",
      "     |      builtins.object\n",
      "     |\n",
      "     |  Methods defined here:\n",
      "     |\n",
      "     |  __getstate__(self)\n",
      "     |      Helper for pickle.\n",
      "     |\n",
      "     |  __init__(self, x=None)\n",
      "     |      Initialize an instance.\n",
      "     |\n",
      "     |      Optional argument x controls seeding, as for Random.seed().\n",
      "     |\n",
      "     |  __reduce__(self)\n",
      "     |      Helper for pickle.\n",
      "     |\n",
      "     |  __setstate__(self, state)\n",
      "     |\n",
      "     |  betavariate(self, alpha, beta)\n",
      "     |      Beta distribution.\n",
      "     |\n",
      "     |      Conditions on the parameters are alpha > 0 and beta > 0.\n",
      "     |      Returned values range between 0 and 1.\n",
      "     |\n",
      "     |      The mean (expected value) and variance of the random variable are:\n",
      "     |\n",
      "     |          E[X] = alpha / (alpha + beta)\n",
      "     |          Var[X] = alpha * beta / ((alpha + beta)**2 * (alpha + beta + 1))\n",
      "     |\n",
      "     |  binomialvariate(self, n=1, p=0.5)\n",
      "     |      Binomial random variable.\n",
      "     |\n",
      "     |      Gives the number of successes for *n* independent trials\n",
      "     |      with the probability of success in each trial being *p*:\n",
      "     |\n",
      "     |          sum(random() < p for i in range(n))\n",
      "     |\n",
      "     |      Returns an integer in the range:   0 <= X <= n\n",
      "     |\n",
      "     |      The mean (expected value) and variance of the random variable are:\n",
      "     |\n",
      "     |          E[X] = n * p\n",
      "     |          Var[x] = n * p * (1 - p)\n",
      "     |\n",
      "     |  choice(self, seq)\n",
      "     |      Choose a random element from a non-empty sequence.\n",
      "     |\n",
      "     |  choices(self, population, weights=None, *, cum_weights=None, k=1)\n",
      "     |      Return a k sized list of population elements chosen with replacement.\n",
      "     |\n",
      "     |      If the relative weights or cumulative weights are not specified,\n",
      "     |      the selections are made with equal probability.\n",
      "     |\n",
      "     |  expovariate(self, lambd=1.0)\n",
      "     |      Exponential distribution.\n",
      "     |\n",
      "     |      lambd is 1.0 divided by the desired mean.  It should be\n",
      "     |      nonzero.  (The parameter would be called \"lambda\", but that is\n",
      "     |      a reserved word in Python.)  Returned values range from 0 to\n",
      "     |      positive infinity if lambd is positive, and from negative\n",
      "     |      infinity to 0 if lambd is negative.\n",
      "     |\n",
      "     |      The mean (expected value) and variance of the random variable are:\n",
      "     |\n",
      "     |          E[X] = 1 / lambd\n",
      "     |          Var[X] = 1 / lambd ** 2\n",
      "     |\n",
      "     |  gammavariate(self, alpha, beta)\n",
      "     |      Gamma distribution.  Not the gamma function!\n",
      "     |\n",
      "     |      Conditions on the parameters are alpha > 0 and beta > 0.\n",
      "     |\n",
      "     |      The probability distribution function is:\n",
      "     |\n",
      "     |                  x ** (alpha - 1) * math.exp(-x / beta)\n",
      "     |        pdf(x) =  --------------------------------------\n",
      "     |                    math.gamma(alpha) * beta ** alpha\n",
      "     |\n",
      "     |      The mean (expected value) and variance of the random variable are:\n",
      "     |\n",
      "     |          E[X] = alpha * beta\n",
      "     |          Var[X] = alpha * beta ** 2\n",
      "     |\n",
      "     |  gauss(self, mu=0.0, sigma=1.0)\n",
      "     |      Gaussian distribution.\n",
      "     |\n",
      "     |      mu is the mean, and sigma is the standard deviation.  This is\n",
      "     |      slightly faster than the normalvariate() function.\n",
      "     |\n",
      "     |      Not thread-safe without a lock around calls.\n",
      "     |\n",
      "     |  getstate(self)\n",
      "     |      Return internal state; can be passed to setstate() later.\n",
      "     |\n",
      "     |  lognormvariate(self, mu, sigma)\n",
      "     |      Log normal distribution.\n",
      "     |\n",
      "     |      If you take the natural logarithm of this distribution, you'll get a\n",
      "     |      normal distribution with mean mu and standard deviation sigma.\n",
      "     |      mu can have any value, and sigma must be greater than zero.\n",
      "     |\n",
      "     |  normalvariate(self, mu=0.0, sigma=1.0)\n",
      "     |      Normal distribution.\n",
      "     |\n",
      "     |      mu is the mean, and sigma is the standard deviation.\n",
      "     |\n",
      "     |  paretovariate(self, alpha)\n",
      "     |      Pareto distribution.  alpha is the shape parameter.\n",
      "     |\n",
      "     |  randbytes(self, n)\n",
      "     |      Generate n random bytes.\n",
      "     |\n",
      "     |  randint(self, a, b)\n",
      "     |      Return random integer in range [a, b], including both end points.\n",
      "     |\n",
      "     |  randrange(self, start, stop=None, step=1)\n",
      "     |      Choose a random item from range(stop) or range(start, stop[, step]).\n",
      "     |\n",
      "     |      Roughly equivalent to ``choice(range(start, stop, step))`` but\n",
      "     |      supports arbitrarily large ranges and is optimized for common cases.\n",
      "     |\n",
      "     |  sample(self, population, k, *, counts=None)\n",
      "     |      Chooses k unique random elements from a population sequence.\n",
      "     |\n",
      "     |      Returns a new list containing elements from the population while\n",
      "     |      leaving the original population unchanged.  The resulting list is\n",
      "     |      in selection order so that all sub-slices will also be valid random\n",
      "     |      samples.  This allows raffle winners (the sample) to be partitioned\n",
      "     |      into grand prize and second place winners (the subslices).\n",
      "     |\n",
      "     |      Members of the population need not be hashable or unique.  If the\n",
      "     |      population contains repeats, then each occurrence is a possible\n",
      "     |      selection in the sample.\n",
      "     |\n",
      "     |      Repeated elements can be specified one at a time or with the optional\n",
      "     |      counts parameter.  For example:\n",
      "     |\n",
      "     |          sample(['red', 'blue'], counts=[4, 2], k=5)\n",
      "     |\n",
      "     |      is equivalent to:\n",
      "     |\n",
      "     |          sample(['red', 'red', 'red', 'red', 'blue', 'blue'], k=5)\n",
      "     |\n",
      "     |      To choose a sample from a range of integers, use range() for the\n",
      "     |      population argument.  This is especially fast and space efficient\n",
      "     |      for sampling from a large population:\n",
      "     |\n",
      "     |          sample(range(10000000), 60)\n",
      "     |\n",
      "     |  seed(self, a=None, version=2)\n",
      "     |      Initialize internal state from a seed.\n",
      "     |\n",
      "     |      The only supported seed types are None, int, float,\n",
      "     |      str, bytes, and bytearray.\n",
      "     |\n",
      "     |      None or no argument seeds from current time or from an operating\n",
      "     |      system specific randomness source if available.\n",
      "     |\n",
      "     |      If *a* is an int, all bits are used.\n",
      "     |\n",
      "     |      For version 2 (the default), all of the bits are used if *a* is a str,\n",
      "     |      bytes, or bytearray.  For version 1 (provided for reproducing random\n",
      "     |      sequences from older versions of Python), the algorithm for str and\n",
      "     |      bytes generates a narrower range of seeds.\n",
      "     |\n",
      "     |  setstate(self, state)\n",
      "     |      Restore internal state from object returned by getstate().\n",
      "     |\n",
      "     |  shuffle(self, x)\n",
      "     |      Shuffle list x in place, and return None.\n",
      "     |\n",
      "     |  triangular(self, low=0.0, high=1.0, mode=None)\n",
      "     |      Triangular distribution.\n",
      "     |\n",
      "     |      Continuous distribution bounded by given lower and upper limits,\n",
      "     |      and having a given mode value in-between.\n",
      "     |\n",
      "     |      http://en.wikipedia.org/wiki/Triangular_distribution\n",
      "     |\n",
      "     |      The mean (expected value) and variance of the random variable are:\n",
      "     |\n",
      "     |          E[X] = (low + high + mode) / 3\n",
      "     |          Var[X] = (low**2 + high**2 + mode**2 - low*high - low*mode - high*mode) / 18\n",
      "     |\n",
      "     |  uniform(self, a, b)\n",
      "     |      Get a random number in the range [a, b) or [a, b] depending on rounding.\n",
      "     |\n",
      "     |      The mean (expected value) and variance of the random variable are:\n",
      "     |\n",
      "     |          E[X] = (a + b) / 2\n",
      "     |          Var[X] = (b - a) ** 2 / 12\n",
      "     |\n",
      "     |  vonmisesvariate(self, mu, kappa)\n",
      "     |      Circular data distribution.\n",
      "     |\n",
      "     |      mu is the mean angle, expressed in radians between 0 and 2*pi, and\n",
      "     |      kappa is the concentration parameter, which must be greater than or\n",
      "     |      equal to zero.  If kappa is equal to zero, this distribution reduces\n",
      "     |      to a uniform random angle over the range 0 to 2*pi.\n",
      "     |\n",
      "     |  weibullvariate(self, alpha, beta)\n",
      "     |      Weibull distribution.\n",
      "     |\n",
      "     |      alpha is the scale parameter and beta is the shape parameter.\n",
      "     |\n",
      "     |  ----------------------------------------------------------------------\n",
      "     |  Class methods defined here:\n",
      "     |\n",
      "     |  __init_subclass__(**kwargs) from builtins.type\n",
      "     |      Control how subclasses generate random integers.\n",
      "     |\n",
      "     |      The algorithm a subclass can use depends on the random() and/or\n",
      "     |      getrandbits() implementation available to it and determines\n",
      "     |      whether it can generate random integers from arbitrarily large\n",
      "     |      ranges.\n",
      "     |\n",
      "     |  ----------------------------------------------------------------------\n",
      "     |  Data descriptors defined here:\n",
      "     |\n",
      "     |  __dict__\n",
      "     |      dictionary for instance variables\n",
      "     |\n",
      "     |  __weakref__\n",
      "     |      list of weak references to the object\n",
      "     |\n",
      "     |  ----------------------------------------------------------------------\n",
      "     |  Data and other attributes defined here:\n",
      "     |\n",
      "     |  VERSION = 3\n",
      "     |\n",
      "     |  ----------------------------------------------------------------------\n",
      "     |  Methods inherited from _random.Random:\n",
      "     |\n",
      "     |  getrandbits(self, k, /)\n",
      "     |      getrandbits(k) -> x.  Generates an int with k random bits.\n",
      "     |\n",
      "     |  random(self, /)\n",
      "     |      random() -> x in the interval [0, 1).\n",
      "     |\n",
      "     |  ----------------------------------------------------------------------\n",
      "     |  Static methods inherited from _random.Random:\n",
      "     |\n",
      "     |  __new__(*args, **kwargs) from builtins.type\n",
      "     |      Create and return a new object.  See help(type) for accurate signature.\n",
      "\n",
      "    class SystemRandom(Random)\n",
      "     |  SystemRandom(x=None)\n",
      "     |\n",
      "     |  Alternate random number generator using sources provided\n",
      "     |  by the operating system (such as /dev/urandom on Unix or\n",
      "     |  CryptGenRandom on Windows).\n",
      "     |\n",
      "     |   Not available on all systems (see os.urandom() for details).\n",
      "     |\n",
      "     |  Method resolution order:\n",
      "     |      SystemRandom\n",
      "     |      Random\n",
      "     |      _random.Random\n",
      "     |      builtins.object\n",
      "     |\n",
      "     |  Methods defined here:\n",
      "     |\n",
      "     |  getrandbits(self, k)\n",
      "     |      getrandbits(k) -> x.  Generates an int with k random bits.\n",
      "     |\n",
      "     |  getstate = _notimplemented(self, *args, **kwds)\n",
      "     |\n",
      "     |  randbytes(self, n)\n",
      "     |      Generate n random bytes.\n",
      "     |\n",
      "     |  random(self)\n",
      "     |      Get the next random number in the range 0.0 <= X < 1.0.\n",
      "     |\n",
      "     |  seed(self, *args, **kwds)\n",
      "     |      Stub method.  Not used for a system random number generator.\n",
      "     |\n",
      "     |  setstate = _notimplemented(self, *args, **kwds)\n",
      "     |\n",
      "     |  ----------------------------------------------------------------------\n",
      "     |  Methods inherited from Random:\n",
      "     |\n",
      "     |  __getstate__(self)\n",
      "     |      Helper for pickle.\n",
      "     |\n",
      "     |  __init__(self, x=None)\n",
      "     |      Initialize an instance.\n",
      "     |\n",
      "     |      Optional argument x controls seeding, as for Random.seed().\n",
      "     |\n",
      "     |  __reduce__(self)\n",
      "     |      Helper for pickle.\n",
      "     |\n",
      "     |  __setstate__(self, state)\n",
      "     |\n",
      "     |  betavariate(self, alpha, beta)\n",
      "     |      Beta distribution.\n",
      "     |\n",
      "     |      Conditions on the parameters are alpha > 0 and beta > 0.\n",
      "     |      Returned values range between 0 and 1.\n",
      "     |\n",
      "     |      The mean (expected value) and variance of the random variable are:\n",
      "     |\n",
      "     |          E[X] = alpha / (alpha + beta)\n",
      "     |          Var[X] = alpha * beta / ((alpha + beta)**2 * (alpha + beta + 1))\n",
      "     |\n",
      "     |  binomialvariate(self, n=1, p=0.5)\n",
      "     |      Binomial random variable.\n",
      "     |\n",
      "     |      Gives the number of successes for *n* independent trials\n",
      "     |      with the probability of success in each trial being *p*:\n",
      "     |\n",
      "     |          sum(random() < p for i in range(n))\n",
      "     |\n",
      "     |      Returns an integer in the range:   0 <= X <= n\n",
      "     |\n",
      "     |      The mean (expected value) and variance of the random variable are:\n",
      "     |\n",
      "     |          E[X] = n * p\n",
      "     |          Var[x] = n * p * (1 - p)\n",
      "     |\n",
      "     |  choice(self, seq)\n",
      "     |      Choose a random element from a non-empty sequence.\n",
      "     |\n",
      "     |  choices(self, population, weights=None, *, cum_weights=None, k=1)\n",
      "     |      Return a k sized list of population elements chosen with replacement.\n",
      "     |\n",
      "     |      If the relative weights or cumulative weights are not specified,\n",
      "     |      the selections are made with equal probability.\n",
      "     |\n",
      "     |  expovariate(self, lambd=1.0)\n",
      "     |      Exponential distribution.\n",
      "     |\n",
      "     |      lambd is 1.0 divided by the desired mean.  It should be\n",
      "     |      nonzero.  (The parameter would be called \"lambda\", but that is\n",
      "     |      a reserved word in Python.)  Returned values range from 0 to\n",
      "     |      positive infinity if lambd is positive, and from negative\n",
      "     |      infinity to 0 if lambd is negative.\n",
      "     |\n",
      "     |      The mean (expected value) and variance of the random variable are:\n",
      "     |\n",
      "     |          E[X] = 1 / lambd\n",
      "     |          Var[X] = 1 / lambd ** 2\n",
      "     |\n",
      "     |  gammavariate(self, alpha, beta)\n",
      "     |      Gamma distribution.  Not the gamma function!\n",
      "     |\n",
      "     |      Conditions on the parameters are alpha > 0 and beta > 0.\n",
      "     |\n",
      "     |      The probability distribution function is:\n",
      "     |\n",
      "     |                  x ** (alpha - 1) * math.exp(-x / beta)\n",
      "     |        pdf(x) =  --------------------------------------\n",
      "     |                    math.gamma(alpha) * beta ** alpha\n",
      "     |\n",
      "     |      The mean (expected value) and variance of the random variable are:\n",
      "     |\n",
      "     |          E[X] = alpha * beta\n",
      "     |          Var[X] = alpha * beta ** 2\n",
      "     |\n",
      "     |  gauss(self, mu=0.0, sigma=1.0)\n",
      "     |      Gaussian distribution.\n",
      "     |\n",
      "     |      mu is the mean, and sigma is the standard deviation.  This is\n",
      "     |      slightly faster than the normalvariate() function.\n",
      "     |\n",
      "     |      Not thread-safe without a lock around calls.\n",
      "     |\n",
      "     |  lognormvariate(self, mu, sigma)\n",
      "     |      Log normal distribution.\n",
      "     |\n",
      "     |      If you take the natural logarithm of this distribution, you'll get a\n",
      "     |      normal distribution with mean mu and standard deviation sigma.\n",
      "     |      mu can have any value, and sigma must be greater than zero.\n",
      "     |\n",
      "     |  normalvariate(self, mu=0.0, sigma=1.0)\n",
      "     |      Normal distribution.\n",
      "     |\n",
      "     |      mu is the mean, and sigma is the standard deviation.\n",
      "     |\n",
      "     |  paretovariate(self, alpha)\n",
      "     |      Pareto distribution.  alpha is the shape parameter.\n",
      "     |\n",
      "     |  randint(self, a, b)\n",
      "     |      Return random integer in range [a, b], including both end points.\n",
      "     |\n",
      "     |  randrange(self, start, stop=None, step=1)\n",
      "     |      Choose a random item from range(stop) or range(start, stop[, step]).\n",
      "     |\n",
      "     |      Roughly equivalent to ``choice(range(start, stop, step))`` but\n",
      "     |      supports arbitrarily large ranges and is optimized for common cases.\n",
      "     |\n",
      "     |  sample(self, population, k, *, counts=None)\n",
      "     |      Chooses k unique random elements from a population sequence.\n",
      "     |\n",
      "     |      Returns a new list containing elements from the population while\n",
      "     |      leaving the original population unchanged.  The resulting list is\n",
      "     |      in selection order so that all sub-slices will also be valid random\n",
      "     |      samples.  This allows raffle winners (the sample) to be partitioned\n",
      "     |      into grand prize and second place winners (the subslices).\n",
      "     |\n",
      "     |      Members of the population need not be hashable or unique.  If the\n",
      "     |      population contains repeats, then each occurrence is a possible\n",
      "     |      selection in the sample.\n",
      "     |\n",
      "     |      Repeated elements can be specified one at a time or with the optional\n",
      "     |      counts parameter.  For example:\n",
      "     |\n",
      "     |          sample(['red', 'blue'], counts=[4, 2], k=5)\n",
      "     |\n",
      "     |      is equivalent to:\n",
      "     |\n",
      "     |          sample(['red', 'red', 'red', 'red', 'blue', 'blue'], k=5)\n",
      "     |\n",
      "     |      To choose a sample from a range of integers, use range() for the\n",
      "     |      population argument.  This is especially fast and space efficient\n",
      "     |      for sampling from a large population:\n",
      "     |\n",
      "     |          sample(range(10000000), 60)\n",
      "     |\n",
      "     |  shuffle(self, x)\n",
      "     |      Shuffle list x in place, and return None.\n",
      "     |\n",
      "     |  triangular(self, low=0.0, high=1.0, mode=None)\n",
      "     |      Triangular distribution.\n",
      "     |\n",
      "     |      Continuous distribution bounded by given lower and upper limits,\n",
      "     |      and having a given mode value in-between.\n",
      "     |\n",
      "     |      http://en.wikipedia.org/wiki/Triangular_distribution\n",
      "     |\n",
      "     |      The mean (expected value) and variance of the random variable are:\n",
      "     |\n",
      "     |          E[X] = (low + high + mode) / 3\n",
      "     |          Var[X] = (low**2 + high**2 + mode**2 - low*high - low*mode - high*mode) / 18\n",
      "     |\n",
      "     |  uniform(self, a, b)\n",
      "     |      Get a random number in the range [a, b) or [a, b] depending on rounding.\n",
      "     |\n",
      "     |      The mean (expected value) and variance of the random variable are:\n",
      "     |\n",
      "     |          E[X] = (a + b) / 2\n",
      "     |          Var[X] = (b - a) ** 2 / 12\n",
      "     |\n",
      "     |  vonmisesvariate(self, mu, kappa)\n",
      "     |      Circular data distribution.\n",
      "     |\n",
      "     |      mu is the mean angle, expressed in radians between 0 and 2*pi, and\n",
      "     |      kappa is the concentration parameter, which must be greater than or\n",
      "     |      equal to zero.  If kappa is equal to zero, this distribution reduces\n",
      "     |      to a uniform random angle over the range 0 to 2*pi.\n",
      "     |\n",
      "     |  weibullvariate(self, alpha, beta)\n",
      "     |      Weibull distribution.\n",
      "     |\n",
      "     |      alpha is the scale parameter and beta is the shape parameter.\n",
      "     |\n",
      "     |  ----------------------------------------------------------------------\n",
      "     |  Class methods inherited from Random:\n",
      "     |\n",
      "     |  __init_subclass__(**kwargs) from builtins.type\n",
      "     |      Control how subclasses generate random integers.\n",
      "     |\n",
      "     |      The algorithm a subclass can use depends on the random() and/or\n",
      "     |      getrandbits() implementation available to it and determines\n",
      "     |      whether it can generate random integers from arbitrarily large\n",
      "     |      ranges.\n",
      "     |\n",
      "     |  ----------------------------------------------------------------------\n",
      "     |  Data descriptors inherited from Random:\n",
      "     |\n",
      "     |  __dict__\n",
      "     |      dictionary for instance variables\n",
      "     |\n",
      "     |  __weakref__\n",
      "     |      list of weak references to the object\n",
      "     |\n",
      "     |  ----------------------------------------------------------------------\n",
      "     |  Data and other attributes inherited from Random:\n",
      "     |\n",
      "     |  VERSION = 3\n",
      "     |\n",
      "     |  ----------------------------------------------------------------------\n",
      "     |  Static methods inherited from _random.Random:\n",
      "     |\n",
      "     |  __new__(*args, **kwargs) from builtins.type\n",
      "     |      Create and return a new object.  See help(type) for accurate signature.\n",
      "\n",
      "FUNCTIONS\n",
      "    betavariate(alpha, beta) method of Random instance\n",
      "        Beta distribution.\n",
      "\n",
      "        Conditions on the parameters are alpha > 0 and beta > 0.\n",
      "        Returned values range between 0 and 1.\n",
      "\n",
      "        The mean (expected value) and variance of the random variable are:\n",
      "\n",
      "            E[X] = alpha / (alpha + beta)\n",
      "            Var[X] = alpha * beta / ((alpha + beta)**2 * (alpha + beta + 1))\n",
      "\n",
      "    binomialvariate(n=1, p=0.5) method of Random instance\n",
      "        Binomial random variable.\n",
      "\n",
      "        Gives the number of successes for *n* independent trials\n",
      "        with the probability of success in each trial being *p*:\n",
      "\n",
      "            sum(random() < p for i in range(n))\n",
      "\n",
      "        Returns an integer in the range:   0 <= X <= n\n",
      "\n",
      "        The mean (expected value) and variance of the random variable are:\n",
      "\n",
      "            E[X] = n * p\n",
      "            Var[x] = n * p * (1 - p)\n",
      "\n",
      "    choice(seq) method of Random instance\n",
      "        Choose a random element from a non-empty sequence.\n",
      "\n",
      "    choices(population, weights=None, *, cum_weights=None, k=1) method of Random instance\n",
      "        Return a k sized list of population elements chosen with replacement.\n",
      "\n",
      "        If the relative weights or cumulative weights are not specified,\n",
      "        the selections are made with equal probability.\n",
      "\n",
      "    expovariate(lambd=1.0) method of Random instance\n",
      "        Exponential distribution.\n",
      "\n",
      "        lambd is 1.0 divided by the desired mean.  It should be\n",
      "        nonzero.  (The parameter would be called \"lambda\", but that is\n",
      "        a reserved word in Python.)  Returned values range from 0 to\n",
      "        positive infinity if lambd is positive, and from negative\n",
      "        infinity to 0 if lambd is negative.\n",
      "\n",
      "        The mean (expected value) and variance of the random variable are:\n",
      "\n",
      "            E[X] = 1 / lambd\n",
      "            Var[X] = 1 / lambd ** 2\n",
      "\n",
      "    gammavariate(alpha, beta) method of Random instance\n",
      "        Gamma distribution.  Not the gamma function!\n",
      "\n",
      "        Conditions on the parameters are alpha > 0 and beta > 0.\n",
      "\n",
      "        The probability distribution function is:\n",
      "\n",
      "                    x ** (alpha - 1) * math.exp(-x / beta)\n",
      "          pdf(x) =  --------------------------------------\n",
      "                      math.gamma(alpha) * beta ** alpha\n",
      "\n",
      "        The mean (expected value) and variance of the random variable are:\n",
      "\n",
      "            E[X] = alpha * beta\n",
      "            Var[X] = alpha * beta ** 2\n",
      "\n",
      "    gauss(mu=0.0, sigma=1.0) method of Random instance\n",
      "        Gaussian distribution.\n",
      "\n",
      "        mu is the mean, and sigma is the standard deviation.  This is\n",
      "        slightly faster than the normalvariate() function.\n",
      "\n",
      "        Not thread-safe without a lock around calls.\n",
      "\n",
      "    getrandbits(k, /) method of Random instance\n",
      "        getrandbits(k) -> x.  Generates an int with k random bits.\n",
      "\n",
      "    getstate() method of Random instance\n",
      "        Return internal state; can be passed to setstate() later.\n",
      "\n",
      "    lognormvariate(mu, sigma) method of Random instance\n",
      "        Log normal distribution.\n",
      "\n",
      "        If you take the natural logarithm of this distribution, you'll get a\n",
      "        normal distribution with mean mu and standard deviation sigma.\n",
      "        mu can have any value, and sigma must be greater than zero.\n",
      "\n",
      "    normalvariate(mu=0.0, sigma=1.0) method of Random instance\n",
      "        Normal distribution.\n",
      "\n",
      "        mu is the mean, and sigma is the standard deviation.\n",
      "\n",
      "    paretovariate(alpha) method of Random instance\n",
      "        Pareto distribution.  alpha is the shape parameter.\n",
      "\n",
      "    randbytes(n) method of Random instance\n",
      "        Generate n random bytes.\n",
      "\n",
      "    randint(a, b) method of Random instance\n",
      "        Return random integer in range [a, b], including both end points.\n",
      "\n",
      "    random() method of Random instance\n",
      "        random() -> x in the interval [0, 1).\n",
      "\n",
      "    randrange(start, stop=None, step=1) method of Random instance\n",
      "        Choose a random item from range(stop) or range(start, stop[, step]).\n",
      "\n",
      "        Roughly equivalent to ``choice(range(start, stop, step))`` but\n",
      "        supports arbitrarily large ranges and is optimized for common cases.\n",
      "\n",
      "    sample(population, k, *, counts=None) method of Random instance\n",
      "        Chooses k unique random elements from a population sequence.\n",
      "\n",
      "        Returns a new list containing elements from the population while\n",
      "        leaving the original population unchanged.  The resulting list is\n",
      "        in selection order so that all sub-slices will also be valid random\n",
      "        samples.  This allows raffle winners (the sample) to be partitioned\n",
      "        into grand prize and second place winners (the subslices).\n",
      "\n",
      "        Members of the population need not be hashable or unique.  If the\n",
      "        population contains repeats, then each occurrence is a possible\n",
      "        selection in the sample.\n",
      "\n",
      "        Repeated elements can be specified one at a time or with the optional\n",
      "        counts parameter.  For example:\n",
      "\n",
      "            sample(['red', 'blue'], counts=[4, 2], k=5)\n",
      "\n",
      "        is equivalent to:\n",
      "\n",
      "            sample(['red', 'red', 'red', 'red', 'blue', 'blue'], k=5)\n",
      "\n",
      "        To choose a sample from a range of integers, use range() for the\n",
      "        population argument.  This is especially fast and space efficient\n",
      "        for sampling from a large population:\n",
      "\n",
      "            sample(range(10000000), 60)\n",
      "\n",
      "    seed(a=None, version=2) method of Random instance\n",
      "        Initialize internal state from a seed.\n",
      "\n",
      "        The only supported seed types are None, int, float,\n",
      "        str, bytes, and bytearray.\n",
      "\n",
      "        None or no argument seeds from current time or from an operating\n",
      "        system specific randomness source if available.\n",
      "\n",
      "        If *a* is an int, all bits are used.\n",
      "\n",
      "        For version 2 (the default), all of the bits are used if *a* is a str,\n",
      "        bytes, or bytearray.  For version 1 (provided for reproducing random\n",
      "        sequences from older versions of Python), the algorithm for str and\n",
      "        bytes generates a narrower range of seeds.\n",
      "\n",
      "    setstate(state) method of Random instance\n",
      "        Restore internal state from object returned by getstate().\n",
      "\n",
      "    shuffle(x) method of Random instance\n",
      "        Shuffle list x in place, and return None.\n",
      "\n",
      "    triangular(low=0.0, high=1.0, mode=None) method of Random instance\n",
      "        Triangular distribution.\n",
      "\n",
      "        Continuous distribution bounded by given lower and upper limits,\n",
      "        and having a given mode value in-between.\n",
      "\n",
      "        http://en.wikipedia.org/wiki/Triangular_distribution\n",
      "\n",
      "        The mean (expected value) and variance of the random variable are:\n",
      "\n",
      "            E[X] = (low + high + mode) / 3\n",
      "            Var[X] = (low**2 + high**2 + mode**2 - low*high - low*mode - high*mode) / 18\n",
      "\n",
      "    uniform(a, b) method of Random instance\n",
      "        Get a random number in the range [a, b) or [a, b] depending on rounding.\n",
      "\n",
      "        The mean (expected value) and variance of the random variable are:\n",
      "\n",
      "            E[X] = (a + b) / 2\n",
      "            Var[X] = (b - a) ** 2 / 12\n",
      "\n",
      "    vonmisesvariate(mu, kappa) method of Random instance\n",
      "        Circular data distribution.\n",
      "\n",
      "        mu is the mean angle, expressed in radians between 0 and 2*pi, and\n",
      "        kappa is the concentration parameter, which must be greater than or\n",
      "        equal to zero.  If kappa is equal to zero, this distribution reduces\n",
      "        to a uniform random angle over the range 0 to 2*pi.\n",
      "\n",
      "    weibullvariate(alpha, beta) method of Random instance\n",
      "        Weibull distribution.\n",
      "\n",
      "        alpha is the scale parameter and beta is the shape parameter.\n",
      "\n",
      "DATA\n",
      "    __all__ = ['Random', 'SystemRandom', 'betavariate', 'binomialvariate',...\n",
      "\n",
      "FILE\n",
      "    /Users/reuven/.pyenv/versions/3.12.1/lib/python3.12/random.py\n",
      "\n",
      "\n"
     ]
    }
   ],
   "source": [
    "# if you're in Jupyter, you can also ask for \"help\" on a full module\n",
    "# this will give you the entire documentation for the module, right in Jupyter\n",
    "\n",
    "help(random)"
   ]
  },
  {
   "cell_type": "markdown",
   "metadata": {},
   "source": [
    "# What happens when we import a module (deeper edition)\n",
    "\n",
    "1. Python looks for the file named in our `import` statement in `sys.path`\n",
    "    - If it finds the file, it loads into memory and creates a module object\n",
    "    - If it doesn't find the file, it raises a `ModuleNotFound` exception\n",
    "2. Python assigns the new module object to the variable we named\n",
    "\n",
    "But when we've already loaded a module, Python won't reload it. So... how does it know?\n",
    "\n",
    "A better outline:\n",
    "\n",
    "1. Python checks to see if the module we named is already loaded into memory. If the module already exists in the cache, skip to step 3\n",
    "2. Python looks for the file named in our `import` statement in `sys.path`\n",
    "    - If it finds the file, it loads into memory and creates a module object, and sticks it in the module cache\n",
    "    - If it doesn't find the file, it raises a `ModuleNotFound` exception\n",
    "3. Python assigns the new module object to the variable we named\n"
   ]
  },
  {
   "cell_type": "code",
   "execution_count": 12,
   "metadata": {},
   "outputs": [
    {
     "data": {
      "text/plain": [
       "<module 'random' from '/Users/reuven/.pyenv/versions/3.12.1/lib/python3.12/random.py'>"
      ]
     },
     "execution_count": 12,
     "metadata": {},
     "output_type": "execute_result"
    }
   ],
   "source": [
    "# What is this cache?\n",
    "\n",
    "# the sys.modules variable is a dict\n",
    "# - keys are strings\n",
    "# - values are module objects\n",
    "\n",
    "# these are set when we import a module\n",
    "\n",
    "sys.modules['random']"
   ]
  },
  {
   "cell_type": "code",
   "execution_count": 13,
   "metadata": {},
   "outputs": [
    {
     "data": {
      "text/plain": [
       "<module 'random' from '/Users/reuven/.pyenv/versions/3.12.1/lib/python3.12/random.py'>"
      ]
     },
     "execution_count": 13,
     "metadata": {},
     "output_type": "execute_result"
    }
   ],
   "source": [
    "random"
   ]
  },
  {
   "cell_type": "code",
   "execution_count": 14,
   "metadata": {},
   "outputs": [
    {
     "data": {
      "text/plain": [
       "True"
      ]
     },
     "execution_count": 14,
     "metadata": {},
     "output_type": "execute_result"
    }
   ],
   "source": [
    "# is the variable random referring to exactly the same thing as sys.modules['random']\n",
    "# the \"is\" operator will tell us\n",
    "\n",
    "random is sys.modules['random']"
   ]
  },
  {
   "cell_type": "code",
   "execution_count": 15,
   "metadata": {},
   "outputs": [
    {
     "ename": "ModuleNotFoundError",
     "evalue": "No module named 'asdfsafsafafa'",
     "output_type": "error",
     "traceback": [
      "\u001b[0;31m---------------------------------------------------------------------------\u001b[0m",
      "\u001b[0;31mModuleNotFoundError\u001b[0m                       Traceback (most recent call last)",
      "Cell \u001b[0;32mIn[15], line 1\u001b[0m\n\u001b[0;32m----> 1\u001b[0m \u001b[38;5;28;01mimport\u001b[39;00m \u001b[38;5;21;01masdfsafsafafa\u001b[39;00m\n",
      "\u001b[0;31mModuleNotFoundError\u001b[0m: No module named 'asdfsafsafafa'"
     ]
    }
   ],
   "source": [
    "import asdfsafsafafa"
   ]
  },
  {
   "cell_type": "markdown",
   "metadata": {},
   "source": [
    "# How can we modify `sys.path`?\n",
    "\n",
    "What if your company has a bunch of modules that it wants to distribute to coders? One possiblity is to define the enviroment variable `PYTHONPATH` *outside* of Python, in the operating system. When Python starts up, any directories listed in `PYTHONPATH` will be put in `sys.path`, between the standard library and `site-packages`."
   ]
  },
  {
   "cell_type": "markdown",
   "metadata": {},
   "source": [
    "# Next up\n",
    "\n",
    "1. The different forms of `import`\n",
    "2. Write our own (small, simple) module"
   ]
  },
  {
   "cell_type": "code",
   "execution_count": 17,
   "metadata": {},
   "outputs": [
    {
     "data": {
      "text/plain": [
       "int"
      ]
     },
     "execution_count": 17,
     "metadata": {},
     "output_type": "execute_result"
    }
   ],
   "source": [
    "# explain the type function that I used\n",
    "\n",
    "# we can use type() on any value in Python, to find out its class (i.e., what kind of value it is)\n",
    "\n",
    "type(5)"
   ]
  },
  {
   "cell_type": "code",
   "execution_count": 18,
   "metadata": {},
   "outputs": [
    {
     "data": {
      "text/plain": [
       "str"
      ]
     },
     "execution_count": 18,
     "metadata": {},
     "output_type": "execute_result"
    }
   ],
   "source": [
    "type('abcd')"
   ]
  },
  {
   "cell_type": "code",
   "execution_count": 19,
   "metadata": {},
   "outputs": [
    {
     "data": {
      "text/plain": [
       "list"
      ]
     },
     "execution_count": 19,
     "metadata": {},
     "output_type": "execute_result"
    }
   ],
   "source": [
    "type([10, 20, 30])"
   ]
  },
  {
   "cell_type": "code",
   "execution_count": 21,
   "metadata": {},
   "outputs": [
    {
     "data": {
      "text/plain": [
       "type"
      ]
     },
     "execution_count": 21,
     "metadata": {},
     "output_type": "execute_result"
    }
   ],
   "source": [
    "type(int)  # what kind of value is int?    it's type, meaning that it's a class"
   ]
  },
  {
   "cell_type": "code",
   "execution_count": 22,
   "metadata": {},
   "outputs": [
    {
     "data": {
      "text/plain": [
       "module"
      ]
     },
     "execution_count": 22,
     "metadata": {},
     "output_type": "execute_result"
    }
   ],
   "source": [
    "type(random)"
   ]
  },
  {
   "cell_type": "code",
   "execution_count": 23,
   "metadata": {},
   "outputs": [
    {
     "data": {
      "text/plain": [
       "int"
      ]
     },
     "execution_count": 23,
     "metadata": {},
     "output_type": "execute_result"
    }
   ],
   "source": [
    "# you can use type() on a variable, too\n",
    "\n",
    "x = 102030\n",
    "type(x)"
   ]
  },
  {
   "cell_type": "code",
   "execution_count": 24,
   "metadata": {},
   "outputs": [],
   "source": [
    "# can we unload a module?\n",
    "\n",
    "# yes! We have to (a) delete the variable and (b) delete it from the cache\n",
    "# note that this is VERY VERY VERY rare to do in a real program; it's not that rare in Jupyter/debugger\n",
    "\n",
    "# delete the module by using the \"del\" keyword\n",
    "del(random)  # this removes the variable, but does *not* unload the module!"
   ]
  },
  {
   "cell_type": "code",
   "execution_count": 25,
   "metadata": {},
   "outputs": [],
   "source": [
    "del(sys.modules['random'])  # this now removes it from the cache"
   ]
  },
  {
   "cell_type": "code",
   "execution_count": 26,
   "metadata": {},
   "outputs": [],
   "source": [
    "# can we then load another module, from a different package?\n",
    "# no, at least not easily -- because import doesn't take a filename. It finds the file\n",
    "# based on the name you give\n",
    "\n",
    "# if you imported abcd, then deleted abcd, then imported abcd again, you'll get the same thing\n",
    "# unless you modified sys.path in the interim which is SUPER SUPER SUPER SUPER SUPER weird and rare.\n",
    "\n",
    "# if you really need to, then you should use the \"importlib\" module, which defines utilities\n",
    "# for low-level module workings."
   ]
  },
  {
   "cell_type": "markdown",
   "metadata": {},
   "source": [
    "# Variations on `import`\n",
    "\n",
    "So far, we've only really talked about `import MODULE` as a way to use `import`. That is the most common way. But there are a few variations on it that are also useful:\n",
    "\n",
    "1. `from MODULE import NAME`: This allows me to directly access `NAME`, rather than saying `MODULE.NAME`. This is good when you'll be using a particular name very often, and don't want to be bogged down typing its module name. It's also useful when a module is underneath a very deep hierarchy, and it's easier to say `FUNC` than `a.b.c.d.e.f.g.FUNC()`. Again, it's crucial to understand that the module will still be loaded, and that it uses the same amount of memory.\n",
    "2. `import MODULE as ALIAS`: This doesn't define the `MODULE` variable, but instead defines the `ALIAS` variable.\n",
    "3. `from MODULE import NAME as ALIAS`: This does both 1+2 -- it loads the module into memory, only defines a single variable at the top level (not the module, but rather `ALIAS`, which refers to `NAME` in the module."
   ]
  },
  {
   "cell_type": "code",
   "execution_count": 27,
   "metadata": {},
   "outputs": [
    {
     "ename": "NameError",
     "evalue": "name 'randint' is not defined",
     "output_type": "error",
     "traceback": [
      "\u001b[0;31m---------------------------------------------------------------------------\u001b[0m",
      "\u001b[0;31mNameError\u001b[0m                                 Traceback (most recent call last)",
      "Cell \u001b[0;32mIn[27], line 5\u001b[0m\n\u001b[1;32m      1\u001b[0m \u001b[38;5;66;03m# what if I want to use the random module, and I especially want to use random.randint\u001b[39;00m\n\u001b[1;32m      2\u001b[0m \u001b[38;5;66;03m# and I *don't* want to write random.randint. Rather, I want to write just randint\u001b[39;00m\n\u001b[1;32m      4\u001b[0m \u001b[38;5;28;01mimport\u001b[39;00m \u001b[38;5;21;01mrandom\u001b[39;00m\n\u001b[0;32m----> 5\u001b[0m \u001b[43mrandint\u001b[49m(\u001b[38;5;241m0\u001b[39m, \u001b[38;5;241m100\u001b[39m)\n",
      "\u001b[0;31mNameError\u001b[0m: name 'randint' is not defined"
     ]
    }
   ],
   "source": [
    "# what if I want to use the random module, and I especially want to use random.randint\n",
    "# and I *don't* want to write random.randint. Rather, I want to write just randint\n",
    "\n",
    "import random    # this defines the variable random\n",
    "randint(0, 100)  # randint only exists as an attribute on random, aka random.randint"
   ]
  },
  {
   "cell_type": "code",
   "execution_count": 28,
   "metadata": {},
   "outputs": [],
   "source": [
    "# if I want to be able to use randint on its own, and not as an attribute of random, I have to say\n",
    "\n",
    "from random import randint   # this means: import the module, and define randint\n",
    "\n",
    "# (1) yes, when we use from .. import, we import THE ENTIRE MODULE INTO MEMORY\n",
    "# (2) the difference is what variable is defined; here, only randint is defined -- random is *NOT* defined"
   ]
  },
  {
   "cell_type": "code",
   "execution_count": 29,
   "metadata": {},
   "outputs": [],
   "source": [
    "del(random)"
   ]
  },
  {
   "cell_type": "code",
   "execution_count": 31,
   "metadata": {},
   "outputs": [
    {
     "ename": "NameError",
     "evalue": "name 'random' is not defined",
     "output_type": "error",
     "traceback": [
      "\u001b[0;31m---------------------------------------------------------------------------\u001b[0m",
      "\u001b[0;31mNameError\u001b[0m                                 Traceback (most recent call last)",
      "Cell \u001b[0;32mIn[31], line 3\u001b[0m\n\u001b[1;32m      1\u001b[0m \u001b[38;5;28;01mfrom\u001b[39;00m \u001b[38;5;21;01mrandom\u001b[39;00m \u001b[38;5;28;01mimport\u001b[39;00m randint   \u001b[38;5;66;03m# this does *NOT* define the random variable; it only defines the randint variable\u001b[39;00m\n\u001b[0;32m----> 3\u001b[0m \u001b[43mrandom\u001b[49m\n",
      "\u001b[0;31mNameError\u001b[0m: name 'random' is not defined"
     ]
    }
   ],
   "source": [
    "from random import randint   # this does *NOT* define the random variable; it only defines the randint variable\n",
    "\n",
    "random"
   ]
  },
  {
   "cell_type": "code",
   "execution_count": 32,
   "metadata": {},
   "outputs": [],
   "source": [
    "# when I started to do data analytics/data science, I learned about the NumPy module\n",
    "# everyone says\n",
    "\n",
    "import numpy as np    \n",
    "\n",
    "# what does that mean?\n",
    "# (1) it still loads the full NumPy module, looking for numpy.py in sys.path\n",
    "# (2) it defines the variable np, not the variable numpy\n",
    "\n",
    "# why do this?\n",
    "# (1) it's easier to write\n",
    "# (2) it clashes with another name\n",
    "# (3) everyone else does it"
   ]
  },
  {
   "cell_type": "markdown",
   "metadata": {},
   "source": [
    "# The final (and worst) variation\n",
    "\n",
    "I sometimes see people encouraged to use\n",
    "\n",
    "```python\n",
    "from MODULE import *\n",
    "```\n",
    "\n",
    "**PLEASE NEVER EVER EVER EVER EVER EVER DO THIS!**\n",
    "\n",
    "What does this do? It loads the module into memory, and then turns all of its definitions into definitions in your namespace, as global variables. So if the module defines 50 variables/functions/classes, then you now have 50 new names to contend with. Maybe they'll collide with yours, and maybe not.\n",
    "\n",
    "This is a bad idea practically and philosophically.\n",
    "\n",
    "- Practically, you'll encounter problems.\n",
    "- Philosophically, this removes the advantage of namespacing, which modules provide."
   ]
  },
  {
   "cell_type": "markdown",
   "metadata": {},
   "source": [
    "# Exercise: Some random functions\n",
    "\n",
    "The `random` module contains a function, `choice`, which returns one random element from a sequence. It also contains the function `choices`, which returns a number of random elements from a sequence.\n",
    "\n",
    "1. Load each of these into your program, without defining `random`, and giving each an alias.\n",
    "2. Ask the user to enter a number of words, separated by spaces.\n",
    "3. Use each of these functions once -- getting a single word, and 3 words from the input."
   ]
  },
  {
   "cell_type": "code",
   "execution_count": 33,
   "metadata": {},
   "outputs": [],
   "source": [
    "from random import choice as pick_one\n",
    "from random import choices as pick_n"
   ]
  },
  {
   "cell_type": "code",
   "execution_count": 35,
   "metadata": {},
   "outputs": [],
   "source": [
    "# you can actually use from .. import NAME 1, NAME 2, NAME 3\n",
    "from random import choice as pick_one, choices as pick_n"
   ]
  },
  {
   "cell_type": "code",
   "execution_count": 36,
   "metadata": {},
   "outputs": [
    {
     "name": "stdout",
     "output_type": "stream",
     "text": [
      "Help on method choice in module random:\n",
      "\n",
      "choice(seq) method of random.Random instance\n",
      "    Choose a random element from a non-empty sequence.\n",
      "\n"
     ]
    }
   ],
   "source": [
    "help(pick_one)"
   ]
  },
  {
   "cell_type": "code",
   "execution_count": 37,
   "metadata": {},
   "outputs": [
    {
     "name": "stdout",
     "output_type": "stream",
     "text": [
      "Help on method choices in module random:\n",
      "\n",
      "choices(population, weights=None, *, cum_weights=None, k=1) method of random.Random instance\n",
      "    Return a k sized list of population elements chosen with replacement.\n",
      "\n",
      "    If the relative weights or cumulative weights are not specified,\n",
      "    the selections are made with equal probability.\n",
      "\n"
     ]
    }
   ],
   "source": [
    "help(pick_n)"
   ]
  },
  {
   "cell_type": "code",
   "execution_count": 38,
   "metadata": {},
   "outputs": [
    {
     "name": "stdin",
     "output_type": "stream",
     "text": [
      "Enter some words:  this is a ridiculous experiment in programming\n"
     ]
    },
    {
     "name": "stdout",
     "output_type": "stream",
     "text": [
      "pick_one: in\n",
      "pick_n: ['programming', 'a', 'this']\n"
     ]
    }
   ],
   "source": [
    "words = input('Enter some words: ').split()\n",
    "\n",
    "print(f'pick_one: {pick_one(words)}')\n",
    "print(f'pick_n: {pick_n(words, k=3)}')\n"
   ]
  },
  {
   "cell_type": "markdown",
   "metadata": {},
   "source": [
    "# How do we create a module?\n",
    "\n",
    "Very simple: Create a Python program in the current directory:\n",
    "\n",
    "- Make sure that the name ends with `.py`\n",
    "- Make sure that the first part of the name is a legal Python identifier. (Not start with a number, no minus signs, etc.)"
   ]
  },
  {
   "cell_type": "markdown",
   "metadata": {},
   "source": [
    "# Review of `mymod.py`\n",
    "\n",
    "1. It's a file in the same directory as my Jupyter\n",
    "2. It contains literally no characters\n",
    "\n",
    "Let's try to import it!"
   ]
  },
  {
   "cell_type": "code",
   "execution_count": 39,
   "metadata": {},
   "outputs": [],
   "source": [
    "import mymod"
   ]
  },
  {
   "cell_type": "code",
   "execution_count": 40,
   "metadata": {},
   "outputs": [
    {
     "data": {
      "text/plain": [
       "module"
      ]
     },
     "execution_count": 40,
     "metadata": {},
     "output_type": "execute_result"
    }
   ],
   "source": [
    "type(mymod)"
   ]
  },
  {
   "cell_type": "code",
   "execution_count": 41,
   "metadata": {},
   "outputs": [
    {
     "data": {
      "text/plain": [
       "['__builtins__',\n",
       " '__cached__',\n",
       " '__doc__',\n",
       " '__file__',\n",
       " '__loader__',\n",
       " '__name__',\n",
       " '__package__',\n",
       " '__spec__']"
      ]
     },
     "execution_count": 41,
     "metadata": {},
     "output_type": "execute_result"
    }
   ],
   "source": [
    "# what names will it contain?\n",
    "dir(mymod)"
   ]
  },
  {
   "cell_type": "markdown",
   "metadata": {},
   "source": [
    "# What are these things?\n",
    "\n",
    "These \"dunders\" (double underscore) are defined by Python as part of the module-creation process. These attributes will *always* exist on a module object. Some of them:\n",
    "\n",
    "- `__builtins__` -- an alias to the \"builtins\" namespace, with all of the things in Python we don't need to load explicitly\n",
    "- `__file__` -- the name of the file that was loaded\n",
    "- `__name__` -- a string, the name of the module"
   ]
  },
  {
   "cell_type": "code",
   "execution_count": 42,
   "metadata": {},
   "outputs": [
    {
     "data": {
      "text/plain": [
       "'/Users/reuven/Courses/Current/OReilly-2024-06June-27-python-modules/mymod.py'"
      ]
     },
     "execution_count": 42,
     "metadata": {},
     "output_type": "execute_result"
    }
   ],
   "source": [
    "mymod.__file__"
   ]
  },
  {
   "cell_type": "code",
   "execution_count": 43,
   "metadata": {},
   "outputs": [
    {
     "data": {
      "text/plain": [
       "'mymod'"
      ]
     },
     "execution_count": 43,
     "metadata": {},
     "output_type": "execute_result"
    }
   ],
   "source": [
    "mymod.__name__"
   ]
  },
  {
   "cell_type": "code",
   "execution_count": 44,
   "metadata": {},
   "outputs": [],
   "source": [
    "import mymod"
   ]
  },
  {
   "cell_type": "code",
   "execution_count": 45,
   "metadata": {},
   "outputs": [
    {
     "data": {
      "text/plain": [
       "['__builtins__',\n",
       " '__cached__',\n",
       " '__doc__',\n",
       " '__file__',\n",
       " '__loader__',\n",
       " '__name__',\n",
       " '__package__',\n",
       " '__spec__']"
      ]
     },
     "execution_count": 45,
     "metadata": {},
     "output_type": "execute_result"
    }
   ],
   "source": [
    "dir(mymod)"
   ]
  },
  {
   "cell_type": "code",
   "execution_count": 46,
   "metadata": {},
   "outputs": [
    {
     "data": {
      "text/plain": [
       "<module 'mymod' from '/Users/reuven/Courses/Current/OReilly-2024-06June-27-python-modules/mymod.py'>"
      ]
     },
     "execution_count": 46,
     "metadata": {},
     "output_type": "execute_result"
    }
   ],
   "source": [
    "# if we want to reload the module, the best way is to use importlib.reload\n",
    "\n",
    "import importlib           # a standard module in Python for doing special import-related things\n",
    "importlib.reload(mymod)    # reload a module"
   ]
  },
  {
   "cell_type": "markdown",
   "metadata": {},
   "source": [
    "# Having trouble  with f-strings?\n",
    "\n",
    "Check out: https://fstring.help/"
   ]
  },
  {
   "cell_type": "code",
   "execution_count": 47,
   "metadata": {},
   "outputs": [
    {
     "data": {
      "text/plain": [
       "['__builtins__',\n",
       " '__cached__',\n",
       " '__doc__',\n",
       " '__file__',\n",
       " '__loader__',\n",
       " '__name__',\n",
       " '__package__',\n",
       " '__spec__',\n",
       " 'hello',\n",
       " 'x',\n",
       " 'y']"
      ]
     },
     "execution_count": 47,
     "metadata": {},
     "output_type": "execute_result"
    }
   ],
   "source": [
    "# now that I have reloaded my module...\n",
    "\n",
    "dir(mymod)"
   ]
  },
  {
   "cell_type": "code",
   "execution_count": 48,
   "metadata": {},
   "outputs": [
    {
     "data": {
      "text/plain": [
       "100"
      ]
     },
     "execution_count": 48,
     "metadata": {},
     "output_type": "execute_result"
    }
   ],
   "source": [
    "mymod.x"
   ]
  },
  {
   "cell_type": "code",
   "execution_count": 49,
   "metadata": {},
   "outputs": [
    {
     "data": {
      "text/plain": [
       "[10, 20, 30]"
      ]
     },
     "execution_count": 49,
     "metadata": {},
     "output_type": "execute_result"
    }
   ],
   "source": [
    "mymod.y"
   ]
  },
  {
   "cell_type": "code",
   "execution_count": 50,
   "metadata": {},
   "outputs": [
    {
     "data": {
      "text/plain": [
       "'Hello, world!'"
      ]
     },
     "execution_count": 50,
     "metadata": {},
     "output_type": "execute_result"
    }
   ],
   "source": [
    "mymod.hello('world')"
   ]
  },
  {
   "cell_type": "markdown",
   "metadata": {},
   "source": [
    "# Variables and attributes\n",
    "\n",
    "All of the global variables in our module (`x`, `y`, and `hello`) are available to us, after we import the module, as attributes on the module object: `mymod.x`, `mymod.y`, `mymod.hello`. "
   ]
  },
  {
   "cell_type": "markdown",
   "metadata": {},
   "source": [
    "# When you `import` a module, the file is executed!\n",
    "\n",
    "If you `import` a module, the entire file is executed, from start to finish. Normally, and ideally, our module will only contain definitions -- of variables, classes, and functions. But if you want to do other things, you can!"
   ]
  },
  {
   "cell_type": "code",
   "execution_count": 52,
   "metadata": {},
   "outputs": [
    {
     "name": "stdout",
     "output_type": "stream",
     "text": [
      "Hello from mymod!\n",
      "Goodbye from mymod!\n"
     ]
    },
    {
     "data": {
      "text/plain": [
       "<module 'mymod' from '/Users/reuven/Courses/Current/OReilly-2024-06June-27-python-modules/mymod.py'>"
      ]
     },
     "execution_count": 52,
     "metadata": {},
     "output_type": "execute_result"
    }
   ],
   "source": [
    "importlib.reload(mymod)"
   ]
  },
  {
   "cell_type": "code",
   "execution_count": 54,
   "metadata": {},
   "outputs": [
    {
     "name": "stdout",
     "output_type": "stream",
     "text": [
      "Hello from mymod!\n",
      "Goodbye from mymod!\n"
     ]
    },
    {
     "data": {
      "text/plain": [
       "<module 'mymod' from '/Users/reuven/Courses/Current/OReilly-2024-06June-27-python-modules/mymod.py'>"
      ]
     },
     "execution_count": 54,
     "metadata": {},
     "output_type": "execute_result"
    }
   ],
   "source": [
    "# now, I've replaced the expilict name \"mymod\" with __name__\n",
    "importlib.reload(mymod)"
   ]
  },
  {
   "cell_type": "markdown",
   "metadata": {},
   "source": [
    "# The `__name__` variable\n",
    "\n",
    "`__name__` is always defined in Python, wherever you are. Its value is always a string, indicating the current namespace. It's very easy to know what the value of `__name__` is:\n",
    "\n",
    "- If you're in the first program/file to be loaded by Python, then its value is `'__main__'`. (A string)\n",
    "- If, however, you're in a file that was imported, then its value is the string of your filename.\n",
    "\n",
    "Who cares? How does it help?\n",
    "\n",
    "Actually, this leads to one of the most common idioms in all of Python:\n",
    "\n",
    "```python\n",
    "if __name__ == '__main__':\n",
    "    # SOMETHING HERE\n",
    "```\n",
    "\n",
    "This line is in nearly every module in the Python world.  Below that line, things will only run if the module is being executed as a standalone program. It will not be executed if someone imported the module.\n",
    "\n",
    "In other words, our file can be two-faced: Both define things as a module, and run things as a program.\n",
    "\n",
    "Many people believe that you need this line in a module, just as you need a `main` function in C. That is not the case. You do not need this line in your programs, or in your modules. But it's very common and very useful."
   ]
  },
  {
   "cell_type": "code",
   "execution_count": 55,
   "metadata": {},
   "outputs": [
    {
     "data": {
      "text/plain": [
       "<module 'mymod' from '/Users/reuven/Courses/Current/OReilly-2024-06June-27-python-modules/mymod.py'>"
      ]
     },
     "execution_count": 55,
     "metadata": {},
     "output_type": "execute_result"
    }
   ],
   "source": [
    "# reload our mymod module -- reloading in a real program is VERY VERY VERY RARE\n",
    "# we do it in Jupyter and when debugging\n",
    "\n",
    "importlib.reload(mymod)"
   ]
  },
  {
   "cell_type": "markdown",
   "metadata": {},
   "source": [
    "# Reviewing `import` vs. `from .. import`\n",
    "\n",
    "1. `import`\n",
    "    - Loads the entire module into memory, if it wasn't there before\n",
    "    - Sticks the module object in `sys.modules`, our cache, if it wasn't there before\n",
    "    - Defines a single variable, the module, to refer to that value\n",
    "    - `import mymod` basically means `mymod = sys.modules['mymod]`, after loading\n",
    "2. `from .. import`\n",
    "    - Loads the entire module into memory, if it wasn't there before\n",
    "    - Sticks the module object in `sys.modules`, our cache, if it wasn't there before\n",
    "    - Defines a variable to refer to an attribute *inside* of the module object\n",
    "    - `from mymod import hello` basically means `hello = sys.modules['mymod].hello`, after loading\n",
    "\n",
    "Bottom line  :\n",
    "- Memory usage is the same\n",
    "- Caching is the same\n",
    "- The only difference is: What variables are defined\n"
   ]
  },
  {
   "cell_type": "markdown",
   "metadata": {},
   "source": [
    "# Next up\n",
    "\n",
    "- Practice writing a module\n",
    "- Standard library\n",
    "- PyPI"
   ]
  },
  {
   "cell_type": "markdown",
   "metadata": {},
   "source": [
    "# Exercise: Menu module\n",
    "\n",
    "The best things to put in modules are functions that we'll use from a number of different programs. One such functionality would be asking the user to choose from among elements in a menu. In this exercise, you'll create a module called `menu.py`, and a function in it called `menu` (yes, that's common). \n",
    "\n",
    "- The function `menu` will take any number of string arguments. Each argument is a legitimate menu option.\n",
    "- The user is then prompted to enter one of these elements.\n",
    "- If/when the user enters a valid menu option, the function returns the user's input.\n",
    "- If not, then the menu scolds them and asks them to try again.\n",
    "\n",
    "I should be able to use this code to get the user's input:\n",
    "\n",
    "```python\n",
    "import menu\n",
    "user_choice = menu.menu('a', 'b', 'c', 'd')   # user will see: Choose a/b/c/d\n",
    "print(user_choice)  # if the user entered 'c', we'll get that here\n",
    "```"
   ]
  },
  {
   "cell_type": "code",
   "execution_count": 57,
   "metadata": {},
   "outputs": [
    {
     "name": "stdin",
     "output_type": "stream",
     "text": [
      "Enter your choice:  q\n"
     ]
    },
    {
     "name": "stdout",
     "output_type": "stream",
     "text": [
      "q is not valid; try again\n"
     ]
    },
    {
     "name": "stdin",
     "output_type": "stream",
     "text": [
      "Enter your choice:  b\n"
     ]
    },
    {
     "name": "stdout",
     "output_type": "stream",
     "text": [
      "b\n"
     ]
    }
   ],
   "source": [
    "import menu\n",
    "user_choice = menu.menu('a', 'b', 'c', 'd')   # user will see: Choose a/b/c/d\n",
    "print(user_choice)  # if the user entered 'c', we'll get that here"
   ]
  },
  {
   "cell_type": "code",
   "execution_count": 59,
   "metadata": {},
   "outputs": [
    {
     "data": {
      "text/plain": [
       "<module 'menu' from '/Users/reuven/Courses/Current/OReilly-2024-06June-27-python-modules/menu.py'>"
      ]
     },
     "execution_count": 59,
     "metadata": {},
     "output_type": "execute_result"
    }
   ],
   "source": [
    "importlib.reload(menu)"
   ]
  },
  {
   "cell_type": "code",
   "execution_count": 61,
   "metadata": {},
   "outputs": [
    {
     "name": "stdin",
     "output_type": "stream",
     "text": [
      "Enter your choice (a/b/c/d):  q\n"
     ]
    },
    {
     "name": "stdout",
     "output_type": "stream",
     "text": [
      "q is not valid; try again\n"
     ]
    },
    {
     "name": "stdin",
     "output_type": "stream",
     "text": [
      "Enter your choice (a/b/c/d):  d\n"
     ]
    },
    {
     "name": "stdout",
     "output_type": "stream",
     "text": [
      "d\n"
     ]
    }
   ],
   "source": [
    "user_choice = menu.menu('a', 'b', 'c', 'd')   # user will see: Choose a/b/c/d\n",
    "print(user_choice)  # if the user entered 'c', we'll get that here"
   ]
  },
  {
   "cell_type": "code",
   "execution_count": 62,
   "metadata": {},
   "outputs": [
    {
     "data": {
      "text/plain": [
       "['.DS_Store',\n",
       " '__pycache__',\n",
       " 'README.md',\n",
       " 'menu.py',\n",
       " 'README.md~',\n",
       " 'OReilly - 2024-06June-27-python-modules.ipynb',\n",
       " '.ipynb_checkpoints',\n",
       " '.git',\n",
       " 'mymod.py',\n",
       " 'untitled.py']"
      ]
     },
     "execution_count": 62,
     "metadata": {},
     "output_type": "execute_result"
    }
   ],
   "source": [
    "# directory listings\n",
    "# (1) os.listdir\n",
    "\n",
    "import os   # everything operating system related, especially files\n",
    "os.listdir('.')  # get a list of files in the current directory"
   ]
  },
  {
   "cell_type": "code",
   "execution_count": 63,
   "metadata": {},
   "outputs": [
    {
     "data": {
      "text/plain": [
       "['README.md',\n",
       " 'menu.py',\n",
       " 'README.md~',\n",
       " 'OReilly - 2024-06June-27-python-modules.ipynb',\n",
       " 'mymod.py',\n",
       " 'untitled.py']"
      ]
     },
     "execution_count": 63,
     "metadata": {},
     "output_type": "execute_result"
    }
   ],
   "source": [
    "import glob    # globbing is the pattern matching used in the shell, with * and ? and other things\n",
    "glob.glob('*.*')"
   ]
  },
  {
   "cell_type": "code",
   "execution_count": 64,
   "metadata": {},
   "outputs": [
    {
     "name": "stdout",
     "output_type": "stream",
     "text": [
      "README.md\n",
      "menu.py\n",
      "README.md~\n",
      "OReilly - 2024-06June-27-python-modules.ipynb\n",
      "mymod.py\n",
      "untitled.py\n"
     ]
    }
   ],
   "source": [
    "for one_filename in glob.glob('*.*'):\n",
    "    print(one_filename)"
   ]
  },
  {
   "cell_type": "code",
   "execution_count": 69,
   "metadata": {},
   "outputs": [
    {
     "name": "stdout",
     "output_type": "stream",
     "text": [
      ".DS_Store\n",
      "README.md\n",
      "menu.py\n",
      "README.md~\n",
      "OReilly - 2024-06June-27-python-modules.ipynb\n",
      "mymod.py\n",
      "untitled.py\n"
     ]
    }
   ],
   "source": [
    "# a third way is to use pathlib\n",
    "# an object-oriented interface to files\n",
    "\n",
    "from pathlib import Path\n",
    "p = Path('.')\n",
    "for one_name in p.iterdir():\n",
    "    if one_name.is_file():  # use pathlib magic on filenames\n",
    "        print(one_name)"
   ]
  },
  {
   "cell_type": "markdown",
   "metadata": {},
   "source": [
    "# Exercise: Count suffixes\n",
    "\n",
    "1. Use either `glob.glob` or `pathlib` (or if you really want, `os.listdir`) to get a list of files in the current directory.\n",
    "2. On each filename, use `os.path.splitext`, a function that returns a tuple whose final element is the file extension.\n",
    "3. Create a dict whose keys are file extensions, and whose values are the number of times each extension appears.\n",
    "4. Print the dict."
   ]
  },
  {
   "cell_type": "code",
   "execution_count": 70,
   "metadata": {},
   "outputs": [
    {
     "data": {
      "text/plain": [
       "PosixPath('.')"
      ]
     },
     "execution_count": 70,
     "metadata": {},
     "output_type": "execute_result"
    }
   ],
   "source": [
    "p"
   ]
  },
  {
   "cell_type": "code",
   "execution_count": 72,
   "metadata": {},
   "outputs": [
    {
     "data": {
      "text/plain": [
       "('/etc/pass', '.txt')"
      ]
     },
     "execution_count": 72,
     "metadata": {},
     "output_type": "execute_result"
    }
   ],
   "source": [
    "os.path.splitext('/etc/pass.txt')\n"
   ]
  },
  {
   "cell_type": "code",
   "execution_count": 73,
   "metadata": {},
   "outputs": [
    {
     "name": "stdout",
     "output_type": "stream",
     "text": [
      "The Zen of Python, by Tim Peters\n",
      "\n",
      "Beautiful is better than ugly.\n",
      "Explicit is better than implicit.\n",
      "Simple is better than complex.\n",
      "Complex is better than complicated.\n",
      "Flat is better than nested.\n",
      "Sparse is better than dense.\n",
      "Readability counts.\n",
      "Special cases aren't special enough to break the rules.\n",
      "Although practicality beats purity.\n",
      "Errors should never pass silently.\n",
      "Unless explicitly silenced.\n",
      "In the face of ambiguity, refuse the temptation to guess.\n",
      "There should be one-- and preferably only one --obvious way to do it.\n",
      "Although that way may not be obvious at first unless you're Dutch.\n",
      "Now is better than never.\n",
      "Although never is often better than *right* now.\n",
      "If the implementation is hard to explain, it's a bad idea.\n",
      "If the implementation is easy to explain, it may be a good idea.\n",
      "Namespaces are one honking great idea -- let's do more of those!\n"
     ]
    }
   ],
   "source": [
    "import this"
   ]
  },
  {
   "cell_type": "code",
   "execution_count": 78,
   "metadata": {},
   "outputs": [
    {
     "name": "stdout",
     "output_type": "stream",
     "text": [
      ".ipynb: 6\n",
      ".pdf: 12\n",
      ".jpg: 6\n",
      ".mp4: 2\n",
      ".py: 18\n",
      ".mellel: 3\n",
      ".txt: 7\n",
      ".xlsx: 3\n",
      ".m4a: 1\n",
      ".png: 5\n",
      ".screenflow: 1\n",
      ".log: 1\n",
      ".xls: 1\n",
      ".avif: 1\n",
      ".txt#: 1\n",
      ".docx: 4\n",
      ".csv: 2\n",
      ".aifc: 1\n",
      ".pptx: 1\n",
      ".zip: 1\n"
     ]
    }
   ],
   "source": [
    "counts = {}\n",
    "\n",
    "for one_filename in glob.glob('/Users/reuven/Desktop/*.*'):\n",
    "    first_part, ext = os.path.splitext(one_filename)\n",
    "\n",
    "    if ext not in counts:\n",
    "        counts[ext] = 0\n",
    "\n",
    "    counts[ext] += 1\n",
    "\n",
    "for key, value in counts.items():\n",
    "    print(f'{key}: {value}')\n",
    "        "
   ]
  },
  {
   "cell_type": "code",
   "execution_count": 81,
   "metadata": {},
   "outputs": [
    {
     "data": {
      "text/plain": [
       "[('.py', 18),\n",
       " ('.pdf', 12),\n",
       " ('.txt', 7),\n",
       " ('.ipynb', 6),\n",
       " ('.jpg', 6),\n",
       " ('.png', 5),\n",
       " ('.docx', 4),\n",
       " ('.mellel', 3),\n",
       " ('.xlsx', 3),\n",
       " ('.mp4', 2),\n",
       " ('.csv', 2),\n",
       " ('.m4a', 1),\n",
       " ('.screenflow', 1),\n",
       " ('.log', 1),\n",
       " ('.xls', 1),\n",
       " ('.avif', 1),\n",
       " ('.txt#', 1),\n",
       " ('.aifc', 1),\n",
       " ('.pptx', 1),\n",
       " ('.zip', 1)]"
      ]
     },
     "execution_count": 81,
     "metadata": {},
     "output_type": "execute_result"
    }
   ],
   "source": [
    "from collections import Counter \n",
    "\n",
    "c = Counter([os.path.splitext(one_filename)[1]\n",
    "             for one_filename in glob.glob('/Users/reuven/Desktop/*.*')])\n",
    "\n",
    "c.most_common()"
   ]
  },
  {
   "cell_type": "markdown",
   "metadata": {},
   "source": [
    "# Next up\n",
    "\n",
    "- PyPI\n",
    "- `pip`"
   ]
  },
  {
   "cell_type": "code",
   "execution_count": 85,
   "metadata": {},
   "outputs": [
    {
     "data": {
      "text/plain": [
       "[('', 27),\n",
       " ('.py', 19),\n",
       " ('.pdf', 12),\n",
       " ('.txt', 8),\n",
       " ('.ipynb', 6),\n",
       " ('.jpg', 6),\n",
       " ('.png', 5),\n",
       " ('.docx', 4),\n",
       " ('.mellel', 3),\n",
       " ('.xlsx', 3),\n",
       " ('.mp4', 2),\n",
       " ('.csv', 2),\n",
       " ('.m4a', 1),\n",
       " ('.screenflow', 1),\n",
       " ('.log', 1),\n",
       " ('.xls', 1),\n",
       " ('.avif', 1),\n",
       " ('.txt#', 1),\n",
       " ('.aifc', 1),\n",
       " ('.pptx', 1),\n",
       " ('.db', 1),\n",
       " ('.zip', 1)]"
      ]
     },
     "execution_count": 85,
     "metadata": {},
     "output_type": "execute_result"
    }
   ],
   "source": [
    "c = Counter([one_path.suffix\n",
    "     for one_path in Path('/Users/reuven/Desktop').iterdir()])\n",
    "\n",
    "c.most_common()"
   ]
  },
  {
   "cell_type": "markdown",
   "metadata": {},
   "source": [
    "# PyPI -- Python Package Index\n",
    "\n",
    "PyPI has many \"distribution packages\" that we can download to our computers and install. When we do that, and put them into a directory on `sys.path`, then `import` can load them as if they were locally developed."
   ]
  },
  {
   "cell_type": "code",
   "execution_count": 86,
   "metadata": {},
   "outputs": [],
   "source": [
    "import rich"
   ]
  },
  {
   "cell_type": "code",
   "execution_count": 87,
   "metadata": {},
   "outputs": [
    {
     "data": {
      "text/html": [
       "<pre style=\"white-space:pre;overflow-x:auto;line-height:normal;font-family:Menlo,'DejaVu Sans Mono',consolas,'Courier New',monospace\">Hello out there!\n",
       "</pre>\n"
      ],
      "text/plain": [
       "Hello out there!\n"
      ]
     },
     "metadata": {},
     "output_type": "display_data"
    }
   ],
   "source": [
    "rich.print('Hello out there!')"
   ]
  },
  {
   "cell_type": "code",
   "execution_count": 92,
   "metadata": {},
   "outputs": [
    {
     "data": {
      "text/html": [
       "<pre style=\"white-space:pre;overflow-x:auto;line-height:normal;font-family:Menlo,'DejaVu Sans Mono',consolas,'Courier New',monospace\"><span style=\"color: #000080; text-decoration-color: #000080; background-color: #808000\">Hello</span> <span style=\"color: #008000; text-decoration-color: #008000; font-weight: bold; font-style: italic\">out</span> <span style=\"text-decoration: underline\">there</span>!\n",
       "</pre>\n"
      ],
      "text/plain": [
       "\u001b[34;43mHello\u001b[0m \u001b[1;3;32mout\u001b[0m \u001b[4mthere\u001b[0m!\n"
      ]
     },
     "metadata": {},
     "output_type": "display_data"
    }
   ],
   "source": [
    "rich.print('[blue on yellow]Hello[/blue on yellow] [bold italic green]out[/bold italic green] [underline]there[/underline]!')"
   ]
  },
  {
   "cell_type": "markdown",
   "metadata": {},
   "source": [
    "# Exercise: Rich text\n",
    "\n",
    "1. Download and install, using `pip`, the `rich` package -- make sure it's the latest version with `install -U`\n",
    "2. `import rich` into your program\n",
    "3. Ask the user to enter their name\n",
    "4. Use `random.choice` to choose a random color from a list of strings you provide, and display the user's name in that color."
   ]
  },
  {
   "cell_type": "code",
   "execution_count": 93,
   "metadata": {},
   "outputs": [
    {
     "data": {
      "text/plain": [
       "['/Users/reuven/Courses/Current/OReilly-2024-06June-27-python-modules',\n",
       " '/Users/reuven/.pyenv/versions/3.12.1/lib/python312.zip',\n",
       " '/Users/reuven/.pyenv/versions/3.12.1/lib/python3.12',\n",
       " '/Users/reuven/.pyenv/versions/3.12.1/lib/python3.12/lib-dynload',\n",
       " '',\n",
       " '/Users/reuven/.pyenv/versions/3.12.1/lib/python3.12/site-packages']"
      ]
     },
     "execution_count": 93,
     "metadata": {},
     "output_type": "execute_result"
    }
   ],
   "source": [
    "import sys\n",
    "sys.path"
   ]
  },
  {
   "cell_type": "code",
   "execution_count": 94,
   "metadata": {},
   "outputs": [
    {
     "name": "stdout",
     "output_type": "stream",
     "text": [
      "30fcd23745efe32ce681__mypyc.cpython-312-darwin.so\n",
      "7f0197f6d050da244d93__mypyc.cpython-312-darwin.so\n",
      "AppKit\n",
      "Automat-22.10.0.dist-info\n",
      "Babel-2.14.0.dist-info\n",
      "Brotli-1.1.0.dist-info\n",
      "CensusData-1.15.post1.dist-info\n",
      "Cocoa\n",
      "ConfigArgParse-1.7.dist-info\n",
      "CoreFoundation\n",
      "Django-5.0.6.dist-info\n",
      "Envelopes-0.4.dist-info\n",
      "Flask_BasicAuth-0.2.0.dist-info\n",
      "Flask_Cors-4.0.0.dist-info\n",
      "Flask_Login-0.6.3.dist-info\n",
      "Foundation\n",
      "GitPython-3.1.43.dist-info\n",
      "IPython\n",
      "ImageHash-4.3.1.dist-info\n",
      "JPype1-1.5.0.dist-info\n",
      "Jinja2-3.1.3.dist-info\n",
      "License.md\n",
      "Mako-1.3.0.dist-info\n",
      "Markdown-3.6.dist-info\n",
      "MarkupSafe-2.1.3.dist-info\n",
      "OpenSSL\n",
      "PIL\n",
      "PasteDeploy-3.1.0-py3.11-nspkg.pth\n",
      "PasteDeploy-3.1.0.dist-info\n",
      "Protego-0.3.0.dist-info\n",
      "PyDispatcher-2.0.7.dist-info\n",
      "PyInstaller\n",
      "PyObjCTools\n",
      "PyQt5\n",
      "PyQt5-5.15.10.dist-info\n",
      "PyQt5_Qt5-5.15.12.dist-info\n",
      "PyQt5_sip-12.13.0.dist-info\n",
      "PyYAML-6.0.1.dist-info\n",
      "QtPy-2.4.1.dist-info\n",
      "README.rst\n",
      "README.txt\n",
      "Rtree-1.2.0.dist-info\n",
      "SQLAlchemy-2.0.31.dist-info\n",
      "Scrapy-2.11.2.dist-info\n",
      "Send2Trash-1.8.2.dist-info\n",
      "Twisted-22.10.0.dist-info\n",
      "Unidecode-1.3.8.dist-info\n",
      "WebOb-1.8.7.dist-info\n",
      "__pycache__\n",
      "_argon2_cffi_bindings\n",
      "_black_version.py\n",
      "_brotli.cpython-312-darwin.so\n",
      "_cffi_backend.cpython-312-darwin.so\n",
      "_distutils_hack\n",
      "_hypothesis_ftz_detector.py\n",
      "_hypothesis_globals.py\n",
      "_hypothesis_pytestplugin.py\n",
      "_jpype.cpython-312-darwin.so\n",
      "_plotly_future_\n",
      "_plotly_utils\n",
      "_pyinstaller_hooks_contrib\n",
      "_pytest\n",
      "_ruamel_yaml.cpython-312-darwin.so\n",
      "_time_machine.cpython-312-darwin.so\n",
      "_watchdog_fsevents.cpython-312-darwin.so\n",
      "_yaml\n",
      "absl\n",
      "absl_py-2.0.0.dist-info\n",
      "adbc_driver_duckdb\n",
      "adjustText\n",
      "adjustText-0.8.dist-info\n",
      "affine\n",
      "affine-2.4.0.dist-info\n",
      "aiodns\n",
      "aiodns-3.2.0.dist-info\n",
      "aiofiles\n",
      "aiofiles-22.1.0.dist-info\n",
      "aiohttp\n",
      "aiohttp-3.9.5.dist-info\n",
      "aiosignal\n",
      "aiosignal-1.3.1.dist-info\n",
      "aiosqlite\n",
      "aiosqlite-0.19.0.dist-info\n",
      "alabaster\n",
      "alabaster-0.7.16.dist-info\n",
      "alembic\n",
      "alembic-1.13.1.dist-info\n",
      "algorithms\n",
      "algorithms-0.1.4.dist-info\n",
      "altair\n",
      "altair-5.3.0.dist-info\n",
      "altgraph\n",
      "altgraph-0.17.4.dist-info\n",
      "amqp\n",
      "amqp-5.2.0.dist-info\n",
      "annotated_types\n",
      "annotated_types-0.6.0.dist-info\n",
      "annoy\n",
      "annoy-1.17.3.dist-info\n",
      "ansible\n",
      "ansible-10.1.0.dist-info\n",
      "ansible_collections\n",
      "ansible_core-2.17.1.dist-info\n",
      "ansible_test\n",
      "anyio\n",
      "anyio-4.2.0.dist-info\n",
      "appnope\n",
      "appnope-0.1.3.dist-info\n",
      "argcomplete\n",
      "argcomplete-3.2.1.dist-info\n",
      "argon2\n",
      "argon2_cffi-23.1.0.dist-info\n",
      "argon2_cffi_bindings-21.2.0.dist-info\n",
      "args-0.1.0.dist-info\n",
      "args.py\n",
      "arrow\n",
      "arrow-1.3.0.dist-info\n",
      "asciimatics\n",
      "asciimatics-1.15.0.dist-info\n",
      "asgiref\n",
      "asgiref-3.7.2.dist-info\n",
      "astroid\n",
      "astroid-3.2.2.dist-info\n",
      "asttokens\n",
      "asttokens-2.4.1.dist-info\n",
      "async_generator\n",
      "async_generator-1.10.dist-info\n",
      "async_lru\n",
      "async_lru-2.0.4.dist-info\n",
      "attr\n",
      "attrs\n",
      "attrs-23.2.0.dist-info\n",
      "automat\n",
      "autopep8-2.3.1.dist-info\n",
      "autopep8.py\n",
      "babel\n",
      "beartype\n",
      "beartype-0.17.1.dist-info\n",
      "beautifulsoup4-4.12.2.dist-info\n",
      "beautifultable\n",
      "beautifultable-1.1.0.dist-info\n",
      "better_exceptions\n",
      "better_exceptions-0.3.3.dist-info\n",
      "better_exceptions_hook.pth\n",
      "billiard\n",
      "billiard-4.2.0.dist-info\n",
      "binaryornot\n",
      "binaryornot-0.4.4.dist-info\n",
      "black\n",
      "black-24.4.2.dist-info\n",
      "blackd\n",
      "bleach\n",
      "bleach-6.1.0.dist-info\n",
      "blib2to3\n",
      "blinker\n",
      "blinker-1.7.0.dist-info\n",
      "bokeh\n",
      "bokeh-3.3.4.dist-info\n",
      "boltons\n",
      "boltons-23.1.1.dist-info\n",
      "brewer2mpl\n",
      "brewer2mpl-1.4.1.dist-info\n",
      "brotli.py\n",
      "bs4\n",
      "bs4-0.0.2.dist-info\n",
      "bugjar\n",
      "bugjar-0.1.0.dist-info\n",
      "build\n",
      "build-1.0.3.dist-info\n",
      "bullet\n",
      "bullet-2.2.0.dist-info\n",
      "cachecontrol\n",
      "cachecontrol-0.14.0.dist-info\n",
      "cachetools\n",
      "cachetools-5.3.2.dist-info\n",
      "cairo\n",
      "celery\n",
      "celery-5.4.0.dist-info\n",
      "censusdata\n",
      "censusdis\n",
      "censusdis-1.1.6.dist-info\n",
      "certifi\n",
      "certifi-2023.11.17.dist-info\n",
      "certipy\n",
      "certipy-0.1.3.dist-info\n",
      "cffi\n",
      "cffi-1.16.0.dist-info\n",
      "chardet\n",
      "chardet-5.2.0.dist-info\n",
      "charset_normalizer\n",
      "charset_normalizer-3.3.2.dist-info\n",
      "cleo\n",
      "cleo-2.1.0.dist-info\n",
      "click\n",
      "click-8.1.7.dist-info\n",
      "click_didyoumean\n",
      "click_didyoumean-0.3.0.dist-info\n",
      "click_plugins\n",
      "click_plugins-1.1.1.dist-info\n",
      "click_repl\n",
      "click_repl-0.3.0.dist-info\n",
      "cligj\n",
      "cligj-0.7.2.dist-info\n",
      "clint\n",
      "clint-0.5.1.dist-info\n",
      "clonevirtualenv.py\n",
      "cloudpickle\n",
      "cloudpickle-3.0.0.dist-info\n",
      "colorama\n",
      "colorama-0.4.6.dist-info\n",
      "colorcet\n",
      "colorcet-3.0.1.dist-info\n",
      "colorlog\n",
      "colorlog-6.8.0.dist-info\n",
      "comm\n",
      "comm-0.2.1.dist-info\n",
      "configargparse.py\n",
      "constantly\n",
      "constantly-23.10.4.dist-info\n",
      "contextily\n",
      "contextily-1.6.0.dist-info\n",
      "contourpy\n",
      "contourpy-1.2.0.dist-info\n",
      "cookiecutter\n",
      "cookiecutter-2.6.0.dist-info\n",
      "coverage\n",
      "coverage-7.5.4.dist-info\n",
      "crashtest\n",
      "crashtest-0.4.1.dist-info\n",
      "cricket\n",
      "cricket-0.2.5.dist-info\n",
      "cryptography\n",
      "cryptography-41.0.7.dist-info\n",
      "cssselect\n",
      "cssselect-1.2.0.dist-info\n",
      "cycler\n",
      "cycler-0.12.1.dist-info\n",
      "dask\n",
      "dask-2024.6.2.dist-info\n",
      "dateparser\n",
      "dateparser-1.2.0.dist-info\n",
      "dateparser_cli\n",
      "dateparser_data\n",
      "dateparser_scripts\n",
      "dateutil\n",
      "dateutil-stubs\n",
      "db_dtypes\n",
      "db_dtypes-1.2.0.dist-info\n",
      "debugpy\n",
      "debugpy-1.8.0.dist-info\n",
      "decorator-5.1.1.dist-info\n",
      "decorator.py\n",
      "defusedxml\n",
      "defusedxml-0.7.1.dist-info\n",
      "dill\n",
      "dill-0.3.7.dist-info\n",
      "distlib\n",
      "distlib-0.3.8.dist-info\n",
      "distro\n",
      "distro-1.9.0.dist-info\n",
      "distutils-precedence.pth\n",
      "divintseg\n",
      "divintseg-0.6.1.dist-info\n",
      "django\n",
      "dm_tree-0.1.8.dist-info\n",
      "dns\n",
      "dnspython-2.6.1.dist-info\n",
      "docs\n",
      "docstring_to_markdown\n",
      "docstring_to_markdown-0.15.dist-info\n",
      "docutils\n",
      "docutils-0.20.1.dist-info\n",
      "doit\n",
      "doit-0.36.0.dist-info\n",
      "dotenv\n",
      "duckdb\n",
      "duckdb-1.0.0.dist-info\n",
      "duckdb-stubs\n",
      "dulwich\n",
      "dulwich-0.21.7.dist-info\n",
      "duvet\n",
      "duvet-0.1.2.dist-info\n",
      "email_validator\n",
      "email_validator-2.1.1.dist-info\n",
      "entrypoints-0.4.dist-info\n",
      "entrypoints.py\n",
      "envelopes\n",
      "et_xmlfile\n",
      "et_xmlfile-1.1.0.dist-info\n",
      "examples\n",
      "executing\n",
      "executing-2.0.1.dist-info\n",
      "face\n",
      "face-20.1.1.dist-info\n",
      "fastapi\n",
      "fastapi-0.111.0.dist-info\n",
      "fastapi_cli\n",
      "fastapi_cli-0.0.2.dist-info\n",
      "fastjsonschema\n",
      "fastjsonschema-2.19.1.dist-info\n",
      "fastkml\n",
      "fastkml-0.12.dist-info\n",
      "filelock\n",
      "filelock-3.13.1.dist-info\n",
      "fiona\n",
      "fiona-1.9.5.dist-info\n",
      "flake8\n",
      "flake8-7.0.0.dist-info\n",
      "flake8_html\n",
      "flake8_html-0.4.3.dist-info\n",
      "flanker\n",
      "flanker-0.9.11.dist-info\n",
      "flask\n",
      "flask-3.0.3.dist-info\n",
      "flask_basicauth.py\n",
      "flask_cors\n",
      "flask_login\n",
      "flet\n",
      "flet-0.19.0.dist-info\n",
      "flet_core\n",
      "flet_core-0.19.0.dist-info\n",
      "flet_easy\n",
      "flet_easy-0.1.0.dist-info\n",
      "flet_runtime\n",
      "flet_runtime-0.19.0.dist-info\n",
      "fontTools\n",
      "fonttools-4.47.2.dist-info\n",
      "fqdn\n",
      "fqdn-1.5.1.dist-info\n",
      "frozenlist\n",
      "frozenlist-1.4.1.dist-info\n",
      "fsspec\n",
      "fsspec-2023.12.2.dist-info\n",
      "future\n",
      "future-1.0.0.dist-info\n",
      "genbadge\n",
      "genbadge-1.1.1.dist-info\n",
      "geographiclib\n",
      "geographiclib-2.0.dist-info\n",
      "geopandas\n",
      "geopandas-1.0.0.dist-info\n",
      "geopy\n",
      "geopy-2.4.1.dist-info\n",
      "gevent\n",
      "gevent-23.9.1.dist-info\n",
      "geventhttpclient\n",
      "geventhttpclient-2.3.1.dist-info\n",
      "ggplot\n",
      "ggplot-0.11.5.dist-info\n",
      "gi\n",
      "git\n",
      "gitautopush\n",
      "gitautopush-0.4.1.dist-info\n",
      "gitdb\n",
      "gitdb-4.0.11.dist-info\n",
      "glob2\n",
      "glob2-0.7.dist-info\n",
      "glom\n",
      "glom-23.5.0.dist-info\n",
      "google\n",
      "google_api_core-2.18.0.dist-info\n",
      "google_auth-2.29.0.dist-info\n",
      "google_auth_oauthlib\n",
      "google_auth_oauthlib-1.2.0.dist-info\n",
      "google_cloud_bigquery-3.21.0.dist-info\n",
      "google_cloud_core-2.4.1.dist-info\n",
      "google_crc32c\n",
      "google_crc32c-1.5.0.dist-info\n",
      "google_resumable_media-2.7.0.dist-info\n",
      "googleapis_common_protos-1.63.0.dist-info\n",
      "gprof2dot-2022.7.29.dist-info\n",
      "gprof2dot.py\n",
      "gpxpy\n",
      "gpxpy-1.6.2.dist-info\n",
      "graphviz\n",
      "graphviz-0.20.3.dist-info\n",
      "green\n",
      "green-4.0.0.dist-info\n",
      "greenlet\n",
      "greenlet-3.0.3.dist-info\n",
      "griffe\n",
      "griffe-0.40.1.dist-info\n",
      "grpc\n",
      "grpc_status\n",
      "grpcio-1.62.2.dist-info\n",
      "grpcio_status-1.62.2.dist-info\n",
      "guppy\n",
      "guppy3-3.1.4.post1.dist-info\n",
      "h11\n",
      "h11-0.14.0.dist-info\n",
      "h5py\n",
      "h5py-3.10.0.dist-info\n",
      "haversine\n",
      "haversine-2.8.1.dist-info\n",
      "holidays\n",
      "holidays-0.51.dist-info\n",
      "holoviews\n",
      "holoviews-1.19.0.dist-info\n",
      "htmlmin\n",
      "htmlmin-0.1.12.dist-info\n",
      "httpcore\n",
      "httpcore-1.0.2.dist-info\n",
      "httptools\n",
      "httptools-0.6.1.dist-info\n",
      "httpx\n",
      "httpx-0.26.0.dist-info\n",
      "humanize\n",
      "humanize-4.9.0.dist-info\n",
      "hupper\n",
      "hupper-1.12.dist-info\n",
      "hyperlink\n",
      "hyperlink-21.0.0.dist-info\n",
      "hypothesis\n",
      "hypothesis-6.104.1.dist-info\n",
      "idna\n",
      "idna-3.6.dist-info\n",
      "imagehash\n",
      "imagesize\n",
      "imagesize-1.4.1.dist-info\n",
      "imagesize.py\n",
      "importlib_metadata\n",
      "importlib_metadata-7.0.1.dist-info\n",
      "importlib_resources\n",
      "importlib_resources-6.1.1.dist-info\n",
      "incremental\n",
      "incremental-22.10.0.dist-info\n",
      "iniconfig\n",
      "iniconfig-2.0.0.dist-info\n",
      "installer\n",
      "installer-0.7.0.dist-info\n",
      "ipdb\n",
      "ipdb-0.13.13.dist-info\n",
      "ipykernel\n",
      "ipykernel-6.28.0.dist-info\n",
      "ipykernel_launcher.py\n",
      "ipyparallel\n",
      "ipyparallel-8.8.0.dist-info\n",
      "ipytest\n",
      "ipytest-0.13.3.dist-info\n",
      "ipython-8.20.0.dist-info\n",
      "ipython_genutils\n",
      "ipython_genutils-0.2.0.dist-info\n",
      "ipywidgets\n",
      "ipywidgets-8.1.2.dist-info\n",
      "isoduration\n",
      "isoduration-20.11.0.dist-info\n",
      "isort\n",
      "isort-5.13.2.dist-info\n",
      "itemadapter\n",
      "itemadapter-0.8.0.dist-info\n",
      "itemloaders\n",
      "itemloaders-1.1.0.dist-info\n",
      "itsdangerous\n",
      "itsdangerous-2.1.2.dist-info\n",
      "jaraco\n",
      "jaraco.classes-3.3.0.dist-info\n",
      "jaraco.context-4.3.0.dist-info\n",
      "jaraco.functools-4.0.0.dist-info\n",
      "jedi\n",
      "jedi-0.19.1.dist-info\n",
      "jinja2\n",
      "jmespath\n",
      "jmespath-1.0.1.dist-info\n",
      "joblib\n",
      "joblib-1.4.2.dist-info\n",
      "jpype\n",
      "json5\n",
      "json5-0.9.14.dist-info\n",
      "jsonpointer-2.4.dist-info\n",
      "jsonpointer.py\n",
      "jsonschema\n",
      "jsonschema-4.20.0.dist-info\n",
      "jsonschema_specifications\n",
      "jsonschema_specifications-2023.12.1.dist-info\n",
      "junit_xml\n",
      "junit_xml-1.9.dist-info\n",
      "jupyter-1.0.0.dist-info\n",
      "jupyter.py\n",
      "jupyter_client\n",
      "jupyter_client-8.6.1.dist-info\n",
      "jupyter_console\n",
      "jupyter_console-6.6.3.dist-info\n",
      "jupyter_core\n",
      "jupyter_core-5.7.2.dist-info\n",
      "jupyter_events\n",
      "jupyter_events-0.10.0.dist-info\n",
      "jupyter_lsp\n",
      "jupyter_lsp-2.2.5.dist-info\n",
      "jupyter_server\n",
      "jupyter_server-2.14.0.dist-info\n",
      "jupyter_server_terminals\n",
      "jupyter_server_terminals-0.5.3.dist-info\n",
      "jupyter_telemetry\n",
      "jupyter_telemetry-0.1.0.dist-info\n",
      "jupyterhub\n",
      "jupyterhub-5.0.0.dist-info\n",
      "jupyterlab\n",
      "jupyterlab-4.1.8.dist-info\n",
      "jupyterlab_plotly\n",
      "jupyterlab_pygments\n",
      "jupyterlab_pygments-0.3.0.dist-info\n",
      "jupyterlab_server\n",
      "jupyterlab_server-2.27.1.dist-info\n",
      "jupyterlab_widgets\n",
      "jupyterlab_widgets-3.0.10.dist-info\n",
      "jupyterlite\n",
      "jupyterlite-0.3.0.dist-info\n",
      "jupyterlite_core\n",
      "jupyterlite_core-0.3.0.dist-info\n",
      "keras\n",
      "keras-3.4.0.dist-info\n",
      "kernprof.py\n",
      "keyring\n",
      "keyring-24.3.1.dist-info\n",
      "kiwisolver\n",
      "kiwisolver-1.4.5.dist-info\n",
      "kombu\n",
      "kombu-5.3.5.dist-info\n",
      "libfuturize\n",
      "libpasteurize\n",
      "line_profiler\n",
      "line_profiler-4.1.3.dist-info\n",
      "linkify_it\n",
      "linkify_it_py-2.0.2.dist-info\n",
      "locket\n",
      "locket-1.0.0.dist-info\n",
      "locust\n",
      "locust-2.29.1.dist-info\n",
      "logargparser-0.1.1.dist-info\n",
      "logargparser.py\n",
      "lxml\n",
      "lxml-5.1.0.dist-info\n",
      "mac_notifications\n",
      "macholib\n",
      "macholib-1.16.3.dist-info\n",
      "macos_notifications-0.2.0.dist-info\n",
      "mako\n",
      "markdown\n",
      "markdown_it\n",
      "markdown_it_py-3.0.0.dist-info\n",
      "markupsafe\n",
      "matplotlib\n",
      "matplotlib-3.9.0.dist-info\n",
      "matplotlib_inline\n",
      "matplotlib_inline-0.1.6.dist-info\n",
      "maya\n",
      "maya-0.6.1.dist-info\n",
      "mccabe-0.7.0.dist-info\n",
      "mccabe.py\n",
      "mdit_py_plugins\n",
      "mdit_py_plugins-0.4.0.dist-info\n",
      "mdurl\n",
      "mdurl-0.1.2.dist-info\n",
      "memory_profiler-0.61.0.dist-info\n",
      "memory_profiler.py\n",
      "mercantile\n",
      "mercantile-1.2.1.dist-info\n",
      "missingno\n",
      "missingno-0.5.2.dist-info\n",
      "mistune\n",
      "mistune-3.0.2.dist-info\n",
      "ml_dtypes\n",
      "ml_dtypes-0.3.2.dist-info\n",
      "modin\n",
      "modin-0.30.1.dist-info\n",
      "modin-autoimport-pandas.pth\n",
      "money\n",
      "money-1.3.0.dist-info\n",
      "more_itertools\n",
      "more_itertools-10.2.0.dist-info\n",
      "mpl_toolkits\n",
      "mprof.py\n",
      "msgpack\n",
      "msgpack-1.0.7.dist-info\n",
      "multidict\n",
      "multidict-6.0.4.dist-info\n",
      "multimethod\n",
      "multimethod-1.10.dist-info\n",
      "multipart\n",
      "mutmut\n",
      "mutmut-2.5.0.dist-info\n",
      "mypy\n",
      "mypy-1.10.1.dist-info\n",
      "mypy_extensions-1.0.0.dist-info\n",
      "mypy_extensions.py\n",
      "mypyc\n",
      "namex\n",
      "namex-0.0.7.dist-info\n",
      "nbclassic\n",
      "nbclassic-1.0.0.dist-info\n",
      "nbclient\n",
      "nbclient-0.9.0.dist-info\n",
      "nbconvert\n",
      "nbconvert-7.14.1.dist-info\n",
      "nbformat\n",
      "nbformat-5.9.2.dist-info\n",
      "nbopen\n",
      "nbopen-0.7.dist-info\n",
      "nbsphinx\n",
      "nbsphinx-0.9.3.dist-info\n",
      "nest_asyncio-1.5.8.dist-info\n",
      "nest_asyncio.py\n",
      "networkx\n",
      "networkx-3.2.1.dist-info\n",
      "nh3\n",
      "nh3-0.2.15.dist-info\n",
      "nltk\n",
      "nltk-3.8.1.dist-info\n",
      "nose\n",
      "nose-1.3.7.dist-info\n",
      "nose2\n",
      "nose2-0.15.1.dist-info\n",
      "notebook\n",
      "notebook-7.1.3.dist-info\n",
      "notebook_shim\n",
      "notebook_shim-0.2.3.dist-info\n",
      "nox\n",
      "nox-2024.4.15.dist-info\n",
      "nox_automation-2019.5.13.dist-info\n",
      "numbergen\n",
      "numpy\n",
      "numpy-1.26.4.dist-info\n",
      "oauthlib\n",
      "oauthlib-3.2.2.dist-info\n",
      "objc\n",
      "objgraph-3.6.1.dist-info\n",
      "objgraph.py\n",
      "objprint\n",
      "objprint-0.2.3.dist-info\n",
      "openpyxl\n",
      "openpyxl-3.1.2.dist-info\n",
      "optree\n",
      "optree-0.11.0.dist-info\n",
      "org.jpype.jar\n",
      "orjson\n",
      "orjson-3.10.3.dist-info\n",
      "overrides\n",
      "overrides-7.4.0.dist-info\n",
      "packaging\n",
      "packaging-23.2.dist-info\n",
      "pamela-1.1.0.dist-info\n",
      "pamela.py\n",
      "pandas\n",
      "pandas-2.2.2.dist-info\n",
      "pandas_gbq\n",
      "pandas_gbq-0.22.0.dist-info\n",
      "pandas_profiling\n",
      "pandas_profiling-3.2.0.dist-info\n",
      "pandocfilters-1.5.0.dist-info\n",
      "pandocfilters.py\n",
      "panel\n",
      "panel-1.3.6.dist-info\n",
      "param\n",
      "param-2.0.1.dist-info\n",
      "parse-1.20.0.dist-info\n",
      "parse.py\n",
      "parsel\n",
      "parsel-1.8.1.dist-info\n",
      "parso\n",
      "parso-0.8.3.dist-info\n",
      "partd\n",
      "partd-1.4.1.dist-info\n",
      "past\n",
      "paste\n",
      "pathspec\n",
      "pathspec-0.12.1.dist-info\n",
      "patsy\n",
      "patsy-0.5.6.dist-info\n",
      "pbr\n",
      "pbr-6.0.0.dist-info\n",
      "pendulum\n",
      "pendulum-3.0.0.dist-info\n",
      "pexpect\n",
      "pexpect-4.9.0.dist-info\n",
      "phik\n",
      "phik-0.12.4.dist-info\n",
      "pickleshare-0.7.5.dist-info\n",
      "pickleshare.py\n",
      "pillow-10.2.0.dist-info\n",
      "pip\n",
      "pip-24.1.dist-info\n",
      "pipenv\n",
      "pipenv-2024.0.1.dist-info\n",
      "pkg_resources\n",
      "pkginfo\n",
      "pkginfo-1.10.0.dist-info\n",
      "plaster\n",
      "plaster-1.1.2.dist-info\n",
      "plaster_pastedeploy\n",
      "plaster_pastedeploy-1.0.1.dist-info\n",
      "platformdirs\n",
      "platformdirs-4.2.0.dist-info\n",
      "plop\n",
      "plop-0.4.0.dist-info\n",
      "plotly\n",
      "plotly-5.18.0.dist-info\n",
      "plotly_express\n",
      "plotly_express-0.4.1.dist-info\n",
      "pluggy\n",
      "pluggy-1.5.0.dist-info\n",
      "plum\n",
      "plum_dispatch-2.3.2.dist-info\n",
      "ply\n",
      "ply-3.11.dist-info\n",
      "png.py\n",
      "poetry\n",
      "poetry-1.8.3.dist-info\n",
      "poetry_core-1.9.0.dist-info\n",
      "poetry_plugin_export\n",
      "poetry_plugin_export-1.6.0.dist-info\n",
      "polars\n",
      "polars-0.20.31.dist-info\n",
      "pony\n",
      "pony-0.7.17.dist-info\n",
      "prometheus_client\n",
      "prometheus_client-0.19.0.dist-info\n",
      "prompt_toolkit\n",
      "prompt_toolkit-3.0.43.dist-info\n",
      "protego.py\n",
      "proto\n",
      "proto_plus-1.23.0.dist-info\n",
      "protobuf-4.25.3.dist-info\n",
      "psutil\n",
      "psutil-5.9.7.dist-info\n",
      "ptyprocess\n",
      "ptyprocess-0.7.0.dist-info\n",
      "pudb\n",
      "pudb-2024.1.dist-info\n",
      "pure_eval\n",
      "pure_eval-0.2.2.dist-info\n",
      "py.py\n",
      "py4j\n",
      "py4j-0.10.9.7.dist-info\n",
      "pyOpenSSL-23.3.0.dist-info\n",
      "py_spy-0.3.14.dist-info\n",
      "pyarrow\n",
      "pyarrow-16.0.0.dist-info\n",
      "pyasn1\n",
      "pyasn1-0.5.1.dist-info\n",
      "pyasn1_modules\n",
      "pyasn1_modules-0.3.0.dist-info\n",
      "pycairo-1.26.0.dist-info\n",
      "pycares\n",
      "pycares-4.4.0.dist-info\n",
      "pycodestyle-2.12.0.dist-info\n",
      "pycodestyle.py\n",
      "pycodestyle_magic-0.5.dist-info\n",
      "pycodestyle_magic.py\n",
      "pycountry\n",
      "pycountry-24.6.1.dist-info\n",
      "pycparser\n",
      "pycparser-2.21.dist-info\n",
      "pycrdt\n",
      "pycrdt-0.8.4.dist-info\n",
      "pycrdt_websocket\n",
      "pycrdt_websocket-0.12.6.dist-info\n",
      "pyct\n",
      "pyct-0.5.0.dist-info\n",
      "pydantic\n",
      "pydantic-2.7.4.dist-info\n",
      "pydantic_core\n",
      "pydantic_core-2.18.4.dist-info\n",
      "pydata_google_auth\n",
      "pydata_google_auth-1.8.2.dist-info\n",
      "pydeck\n",
      "pydeck-0.9.1.dist-info\n",
      "pydispatch\n",
      "pydocstyle\n",
      "pydocstyle-6.3.0.dist-info\n",
      "pyfiglet\n",
      "pyfiglet-1.0.2.dist-info\n",
      "pyflakes\n",
      "pyflakes-3.2.0.dist-info\n",
      "pyflame\n",
      "pyflame-0.3.1.dist-info\n",
      "pygeoif\n",
      "pygeoif-0.7.dist-info\n",
      "pygments\n",
      "pygments-2.17.2.dist-info\n",
      "pygobject-3.48.2.dist-info\n",
      "pygtkcompat\n",
      "pyinstaller-6.8.0.dist-info\n",
      "pyinstaller_hooks_contrib-2024.6.dist-info\n",
      "pyinstrument\n",
      "pyinstrument-4.6.2.dist-info\n",
      "pylab.py\n",
      "pylama\n",
      "pylama-8.4.1.dist-info\n",
      "pylint\n",
      "pylint-3.2.3.dist-info\n",
      "pylsp\n",
      "pylsp_jsonrpc\n",
      "pyobjc_core-10.3.1.dist-info\n",
      "pyobjc_framework_Cocoa-10.3.1.dist-info\n",
      "pyogrio\n",
      "pyogrio-0.7.2.dist-info\n",
      "pyparsing\n",
      "pyparsing-3.1.1.dist-info\n",
      "pypng-0.20220715.0.dist-info\n",
      "pyproj\n",
      "pyproj-3.6.1.dist-info\n",
      "pyproject_api\n",
      "pyproject_api-1.6.1.dist-info\n",
      "pyproject_hooks\n",
      "pyproject_hooks-1.0.0.dist-info\n",
      "pyramid\n",
      "pyramid-2.0.2.dist-info\n",
      "pyspark\n",
      "pyspark-3.5.1.dist-info\n",
      "pyspy\n",
      "pyspy-0.1.1.dist-info\n",
      "pytest\n",
      "pytest-8.2.2.dist-info\n",
      "pytest-cov.pth\n",
      "pytest_cov\n",
      "pytest_cov-5.0.0.dist-info\n",
      "pytest_flask\n",
      "pytest_flask-1.3.0.dist-info\n",
      "pytest_sugar-1.0.0.dist-info\n",
      "pytest_sugar.py\n",
      "python_calamine\n",
      "python_calamine-0.2.0.dist-info\n",
      "python_dateutil-2.9.0.post0.dist-info\n",
      "python_dotenv-1.0.1.dist-info\n",
      "python_json_logger-2.0.7.dist-info\n",
      "python_lsp_jsonrpc-1.1.2.dist-info\n",
      "python_lsp_server-1.11.0.dist-info\n",
      "python_multipart-0.0.9.dist-info\n",
      "python_patterns\n",
      "python_patterns-0.0.1.dist-info\n",
      "python_slugify-8.0.1.dist-info\n",
      "pythonjsonlogger\n",
      "pytoolconfig\n",
      "pytoolconfig-1.3.1.dist-info\n",
      "pytube\n",
      "pytube-15.0.0.dist-info\n",
      "pytypes\n",
      "pytypes-1.0b10.dist-info\n",
      "pytz\n",
      "pytz-2023.3.post1.dist-info\n",
      "pyusb-1.2.1.dist-info\n",
      "pyviz_comms\n",
      "pyviz_comms-3.0.0.dist-info\n",
      "pywavelets-1.5.0.dist-info\n",
      "pywt\n",
      "pyzmq-25.1.2.dist-info\n",
      "qrcode\n",
      "qrcode-7.4.2.dist-info\n",
      "qtconsole\n",
      "qtconsole-5.5.1.dist-info\n",
      "qtpy\n",
      "quartodoc\n",
      "quartodoc-0.7.2.dist-info\n",
      "queuelib\n",
      "queuelib-1.6.2.dist-info\n",
      "rapidfuzz\n",
      "rapidfuzz-3.6.1.dist-info\n",
      "rasterio\n",
      "rasterio-1.3.9.dist-info\n",
      "readme_renderer\n",
      "readme_renderer-42.0.dist-info\n",
      "referencing\n",
      "referencing-0.32.1.dist-info\n",
      "regex\n",
      "regex-2024.5.15.dist-info\n",
      "rentalroi\n",
      "rentalroi-0.1.1.dist-info\n",
      "repath-0.9.0.dist-info\n",
      "repath.py\n",
      "reportlab\n",
      "reportlab-4.2.2.dist-info\n",
      "requests\n",
      "requests-2.32.3.dist-info\n",
      "requests_file-1.5.1.dist-info\n",
      "requests_file.py\n",
      "requests_mock\n",
      "requests_mock-1.11.0.dist-info\n",
      "requests_oauthlib\n",
      "requests_oauthlib-2.0.0.dist-info\n",
      "requests_toolbelt\n",
      "requests_toolbelt-1.0.0.dist-info\n",
      "resolvelib\n",
      "resolvelib-1.0.1.dist-info\n",
      "rfc3339_validator-0.1.4.dist-info\n",
      "rfc3339_validator.py\n",
      "rfc3986\n",
      "rfc3986-2.0.0.dist-info\n",
      "rfc3986_validator-0.1.1.dist-info\n",
      "rfc3986_validator.py\n",
      "rich\n",
      "rich-13.7.1.dist-info\n",
      "rope\n",
      "rope-1.13.0.dist-info\n",
      "roundrobin\n",
      "roundrobin-0.0.4.dist-info\n",
      "rpds\n",
      "rpds_py-0.17.1.dist-info\n",
      "rsa\n",
      "rsa-4.9.dist-info\n",
      "rtree\n",
      "ruamel\n",
      "ruamel.yaml-0.18.5.dist-info\n",
      "ruamel.yaml.clib-0.2.8.dist-info\n",
      "scikit_learn-1.5.0.dist-info\n",
      "scikit_surprise-1.1.4.dist-info\n",
      "scipy\n",
      "scipy-1.11.4.dist-info\n",
      "scrapy\n",
      "scripts\n",
      "seaborn\n",
      "seaborn-0.13.2.dist-info\n",
      "send2trash\n",
      "service_identity\n",
      "service_identity-23.1.0.dist-info\n",
      "setuptools\n",
      "setuptools-69.0.3.dist-info\n",
      "shapely\n",
      "shapely-2.0.2.dist-info\n",
      "shellingham\n",
      "shellingham-1.5.4.dist-info\n",
      "six-1.16.0.dist-info\n",
      "six.py\n",
      "skimpy\n",
      "skimpy-0.0.14.dist-info\n",
      "sklearn\n",
      "slugify\n",
      "smmap\n",
      "smmap-5.0.1.dist-info\n",
      "snakeviz\n",
      "snakeviz-2.2.0.dist-info\n",
      "snaptime\n",
      "snaptime-0.2.4.dist-info\n",
      "sniffio\n",
      "sniffio-1.3.0.dist-info\n",
      "snowballstemmer\n",
      "snowballstemmer-2.2.0.dist-info\n",
      "snuggs\n",
      "snuggs-1.4.7.dist-info\n",
      "sortedcontainers\n",
      "sortedcontainers-2.4.0.dist-info\n",
      "soupsieve\n",
      "soupsieve-2.5.dist-info\n",
      "sphinx\n",
      "sphinx-7.3.7.dist-info\n",
      "sphinxcontrib\n",
      "sphinxcontrib_applehelp-1.0.8.dist-info\n",
      "sphinxcontrib_devhelp-1.0.6.dist-info\n",
      "sphinxcontrib_htmlhelp-2.0.5.dist-info\n",
      "sphinxcontrib_jsmath-1.0.1-py3.7-nspkg.pth\n",
      "sphinxcontrib_jsmath-1.0.1.dist-info\n",
      "sphinxcontrib_qthelp-1.0.7.dist-info\n",
      "sphinxcontrib_serializinghtml-1.1.10.dist-info\n",
      "sphobjinv\n",
      "sphobjinv-2.3.1.dist-info\n",
      "sqlalchemy\n",
      "sqlparse\n",
      "sqlparse-0.4.4.dist-info\n",
      "stack_data\n",
      "stack_data-0.6.3.dist-info\n",
      "starlette\n",
      "starlette-0.37.2.dist-info\n",
      "statsmodels\n",
      "statsmodels-0.14.2.dist-info\n",
      "stevedore\n",
      "stevedore-5.1.0.dist-info\n",
      "streamlit\n",
      "streamlit-1.35.0.dist-info\n",
      "summarytools\n",
      "summarytools-0.2.3.dist-info\n",
      "surprise\n",
      "surprise-0.1.dist-info\n",
      "tabula\n",
      "tabula-1.0.5.dist-info\n",
      "tabula_py-2.9.0.dist-info\n",
      "tabulate\n",
      "tabulate-0.9.0.dist-info\n",
      "tangled_up_in_unicode\n",
      "tangled_up_in_unicode-0.2.0.dist-info\n",
      "tenacity\n",
      "tenacity-8.2.3.dist-info\n",
      "termcolor\n",
      "termcolor-2.4.0.dist-info\n",
      "terminado\n",
      "terminado-0.18.0.dist-info\n",
      "tests\n",
      "text_unidecode\n",
      "text_unidecode-1.3.dist-info\n",
      "textual\n",
      "textual-0.70.0.dist-info\n",
      "threadpoolctl-3.2.0.dist-info\n",
      "threadpoolctl.py\n",
      "time_machine\n",
      "time_machine-2.13.0.dist-info\n",
      "tinycss2\n",
      "tinycss2-1.2.1.dist-info\n",
      "tinytag\n",
      "tinytag-1.10.1.dist-info\n",
      "tkreadonly-0.6.1.dist-info\n",
      "tkreadonly.py\n",
      "tld\n",
      "tld-0.13.dist-info\n",
      "tldextract\n",
      "tldextract-5.1.1.dist-info\n",
      "tlz\n",
      "toml\n",
      "toml-0.10.2.dist-info\n",
      "tomli\n",
      "tomli-2.0.1.dist-info\n",
      "tomlkit\n",
      "tomlkit-0.12.3.dist-info\n",
      "toolz\n",
      "toolz-0.12.0.dist-info\n",
      "tornado\n",
      "tornado-6.4.dist-info\n",
      "tox\n",
      "tox-4.15.1.dist-info\n",
      "tqdm\n",
      "tqdm-4.66.1.dist-info\n",
      "traitlets\n",
      "traitlets-5.14.1.dist-info\n",
      "translationstring\n",
      "translationstring-1.4.dist-info\n",
      "tree\n",
      "trove_classifiers\n",
      "trove_classifiers-2024.1.8.dist-info\n",
      "twine\n",
      "twine-5.1.0.dist-info\n",
      "twisted\n",
      "typeguard\n",
      "typeguard-4.1.5.dist-info\n",
      "typer\n",
      "typer-0.12.3.dist-info\n",
      "types_python_dateutil-2.8.19.20240106.dist-info\n",
      "typing_extensions-4.9.0.dist-info\n",
      "typing_extensions.py\n",
      "typings\n",
      "tzdata\n",
      "tzdata-2023.4.dist-info\n",
      "tzlocal\n",
      "tzlocal-5.2.dist-info\n",
      "uc_micro\n",
      "uc_micro_py-1.0.2.dist-info\n",
      "ujson-5.9.0.dist-info\n",
      "ujson.cpython-312-darwin.so\n",
      "unidecode\n",
      "uri_template\n",
      "uri_template-1.3.0.dist-info\n",
      "urllib3\n",
      "urllib3-2.1.0.dist-info\n",
      "urwid\n",
      "urwid-2.4.2.dist-info\n",
      "urwid_readline\n",
      "urwid_readline-0.13.dist-info\n",
      "usb\n",
      "usingversion\n",
      "usingversion-0.1.2.dist-info\n",
      "uv\n",
      "uv-0.1.11.dist-info\n",
      "uvicorn\n",
      "uvicorn-0.29.0.dist-info\n",
      "uvloop\n",
      "uvloop-0.19.0.dist-info\n",
      "venusian\n",
      "venusian-3.1.0.dist-info\n",
      "vine\n",
      "vine-5.1.0.dist-info\n",
      "virtualenv\n",
      "virtualenv-20.25.0.dist-info\n",
      "virtualenv_clone-0.5.7.dist-info\n",
      "virtualenvwrapper\n",
      "virtualenvwrapper-6.1.0.dist-info\n",
      "visions\n",
      "visions-0.7.4.dist-info\n",
      "viztracer\n",
      "viztracer-0.16.1.dist-info\n",
      "w3lib\n",
      "w3lib-2.1.2.dist-info\n",
      "watchdog\n",
      "watchdog-3.0.0.dist-info\n",
      "watchfiles\n",
      "watchfiles-0.21.0.dist-info\n",
      "wcwidth\n",
      "wcwidth-0.2.13.dist-info\n",
      "webcolors\n",
      "webcolors-1.13.dist-info\n",
      "webencodings\n",
      "webencodings-0.5.1.dist-info\n",
      "webob\n",
      "websocket\n",
      "websocket_client-1.7.0.dist-info\n",
      "websockets\n",
      "websockets-11.0.3.dist-info\n",
      "werkzeug\n",
      "werkzeug-3.0.1.dist-info\n",
      "whatthepatch\n",
      "whatthepatch-1.0.5.dist-info\n",
      "wheel\n",
      "wheel-0.43.0.dist-info\n",
      "widgetsnbextension\n",
      "widgetsnbextension-4.0.10.dist-info\n",
      "xattr\n",
      "xattr-1.1.0.dist-info\n",
      "xdot\n",
      "xdot-1.4.dist-info\n",
      "xlrd\n",
      "xlrd-2.0.1.dist-info\n",
      "xlwt\n",
      "xlwt-1.3.0.dist-info\n",
      "xyzservices\n",
      "xyzservices-2023.10.1.dist-info\n",
      "y_py\n",
      "y_py-0.6.2.dist-info\n",
      "yaml\n",
      "yapf\n",
      "yapf-0.40.2.dist-info\n",
      "yapf_third_party\n",
      "yapftests\n",
      "yarl\n",
      "yarl-1.9.4.dist-info\n",
      "ypy_websocket\n",
      "ypy_websocket-0.8.4.dist-info\n",
      "zipp\n",
      "zipp-3.17.0.dist-info\n",
      "zmq\n",
      "zope\n",
      "zope.deprecation-5.0-py3.9-nspkg.pth\n",
      "zope.deprecation-5.0.dist-info\n",
      "zope.event-5.0-py3.11-nspkg.pth\n",
      "zope.event-5.0.dist-info\n",
      "zope.interface-6.1-py3.12-nspkg.pth\n",
      "zope.interface-6.1.dist-info\n"
     ]
    }
   ],
   "source": [
    "!ls /Users/reuven/.pyenv/versions/3.12.1/lib/python3.12/site-packages"
   ]
  },
  {
   "cell_type": "code",
   "execution_count": 95,
   "metadata": {},
   "outputs": [
    {
     "name": "stdin",
     "output_type": "stream",
     "text": [
      "Enter your name:  Reuven\n"
     ]
    },
    {
     "name": "stdout",
     "output_type": "stream",
     "text": [
      "Hello, [red on white]Reuven[/red on white]!\n"
     ]
    }
   ],
   "source": [
    "import random\n",
    "\n",
    "colors = ['red', 'blue', 'green', 'pink', 'white']\n",
    "\n",
    "fg_color = random.choice(colors)\n",
    "bg_color = random.choice(colors)\n",
    "\n",
    "name = input('Enter your name: ').strip()\n",
    "\n",
    "print(f'Hello, [{fg_color} on {bg_color}]{name}[/{fg_color} on {bg_color}]!')\n"
   ]
  },
  {
   "cell_type": "code",
   "execution_count": null,
   "metadata": {},
   "outputs": [],
   "source": []
  }
 ],
 "metadata": {
  "kernelspec": {
   "display_name": "Python 3 (ipykernel)",
   "language": "python",
   "name": "python3"
  },
  "language_info": {
   "codemirror_mode": {
    "name": "ipython",
    "version": 3
   },
   "file_extension": ".py",
   "mimetype": "text/x-python",
   "name": "python",
   "nbconvert_exporter": "python",
   "pygments_lexer": "ipython3",
   "version": "3.12.1"
  }
 },
 "nbformat": 4,
 "nbformat_minor": 4
}
