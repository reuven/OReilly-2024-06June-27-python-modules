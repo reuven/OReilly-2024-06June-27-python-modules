{
 "cells": [
  {
   "cell_type": "markdown",
   "metadata": {},
   "source": [
    "# Agenda: Modules and packages\n",
    "\n",
    "- What are modules? Why do we care about them?\n",
    "- What can a module contain?\n",
    "- The `import` statement\n",
    "- The different forms of `import`\n",
    "- Creating/developing a (simple) module\n",
    "- How do modules even work? (From the inside)\n",
    "- Python's standard library\n",
    "- Modules vs. packages\n",
    "- PyPI, the third-party archive of Python modules/packages\n",
    "- `pip`, which installs modules\n"
   ]
  },
  {
   "cell_type": "markdown",
   "metadata": {},
   "source": [
    "# Intro to modules\n",
    "\n",
    "One of the most important ideas in programming is DRY (don't repeat yourself). If you have code that repeats in your program, you're probably doing something wrong.\n",
    "\n",
    "- If you have several lines in a row that are the same (or close to it), then you can use a loop.\n",
    "- If you have the same code in several places in your program, then you can put them into a function, and invoke the function in various places.\n",
    "- If you have the same code in several different programs, then you'll want to use a *library*.\n",
    "\n",
    "Just about every programming language has libraries. In Python, we call our libraries \"modules.\"\n",
    "\n",
    "What are the advantages of using a module?\n",
    "\n",
    "- We don't have to work as hard; we write the code once, and then refer to it many times.\n",
    "- If/when something goes wrong, we only have to debug/fix the code in one place.\n",
    "- When we read code, there's less to read, and thus to understand/wrap our minds around.\n",
    "- If there's less code, then it will likely run faster.\n",
    "\n",
    "In Python, modules actually do two different things:\n",
    "- They provide us with all of the normal advantages of libraries\n",
    "- Modules also provide us with *namespaces*, ensuring that the variables created in one place don't interfere with those in another place.\n",
    "\n",
    "Python comes with a huge number of modules, right when you download it. These are collectively known as the \"standard library.\" Having the standard library around means that we don't have to write nearly as much code from scratch."
   ]
  },
  {
   "cell_type": "markdown",
   "metadata": {},
   "source": [
    "# Using a module\n",
    "\n",
    "In Python, we can use a module with the `import` statement. There are a bunch of weird things about `import` that you might not have noticed. Let's review them:\n",
    "\n",
    "1. `import` is not a function. So don't use parentheses around its argument.\n",
    "2. `import` is a Python keyword. So you cannot redefine it, even if you want to.\n",
    "3. The argument we give to `import` is not a string. It's not a Python data structure at all. When you `import`, you're really doing two things:\n",
    "    - Creating a new module object, based on the contents of a file on disk\n",
    "    - Defining a variable ... the name that you gave\n",
    "4. If you use an existing variable name after `import`, assuming that it works, you have now overwritten the original value."
   ]
  },
  {
   "cell_type": "code",
   "execution_count": 1,
   "metadata": {},
   "outputs": [],
   "source": [
    "import random"
   ]
  },
  {
   "cell_type": "code",
   "execution_count": 2,
   "metadata": {},
   "outputs": [
    {
     "data": {
      "text/plain": [
       "module"
      ]
     },
     "execution_count": 2,
     "metadata": {},
     "output_type": "execute_result"
    }
   ],
   "source": [
    "type(random)  # what kind of value does the name \"random\" refer to?"
   ]
  },
  {
   "cell_type": "markdown",
   "metadata": {},
   "source": [
    "# Importing stuff from the standard library\n",
    "\n",
    "The standard library is so incredibly huge that there's no need to `import` all of it. Moreover, that would use a ton of memory (and it would take time to load).\n",
    "\n",
    "Some small parts of the standard library are loaded automatically; these are generally referred to as \"builins.\" These things like `str`, `list`, `len`, `dict`, `sum`, etc.\n",
    "\n",
    "But most modules in the standard library are *not* loaded by default, and must be imported."
   ]
  },
  {
   "cell_type": "markdown",
   "metadata": {},
   "source": [
    "# What really happens when we `import`?\n",
    "\n",
    "1. Python looks for the module file\n",
    "    - We cannot specify a file! In other languages, we can give a string, or a path, telling the language where to look. But in Python, we just give the name of the module we want to load.\n",
    "    - Python uses the name that we gave it to look for a file. If we said `import random`, Python looks for `random.py`. That file could be in any of a number of directories; Python looks, one by one, in the locations specified in `sys.path`.\n",
    "2. Once the module is loaded, the variable we specified is now assigned to the module object."
   ]
  },
  {
   "cell_type": "code",
   "execution_count": 3,
   "metadata": {},
   "outputs": [
    {
     "data": {
      "text/plain": [
       "['/Users/reuven/Courses/Current/OReilly-2024-06June-27-python-modules',\n",
       " '/Users/reuven/.pyenv/versions/3.12.1/lib/python312.zip',\n",
       " '/Users/reuven/.pyenv/versions/3.12.1/lib/python3.12',\n",
       " '/Users/reuven/.pyenv/versions/3.12.1/lib/python3.12/lib-dynload',\n",
       " '',\n",
       " '/Users/reuven/.pyenv/versions/3.12.1/lib/python3.12/site-packages']"
      ]
     },
     "execution_count": 3,
     "metadata": {},
     "output_type": "execute_result"
    }
   ],
   "source": [
    "# what is in sys.path?\n",
    "\n",
    "import sys    # this module is special -- it's already loaded into memory, but the variable is not defined without import\n",
    "\n",
    "sys.path   # this is a list of strings, telling us where Python will look for a module we want to load"
   ]
  },
  {
   "cell_type": "markdown",
   "metadata": {},
   "source": [
    "When I say `import random`, Python looks in each directory in `sys.path` for `random.py`.\n",
    "\n",
    "The first directory in `sys.path` is always the one in which the program is located. That allows it to easily import modules in the same directory.\n",
    "\n"
   ]
  }
 ],
 "metadata": {
  "kernelspec": {
   "display_name": "Python 3 (ipykernel)",
   "language": "python",
   "name": "python3"
  },
  "language_info": {
   "codemirror_mode": {
    "name": "ipython",
    "version": 3
   },
   "file_extension": ".py",
   "mimetype": "text/x-python",
   "name": "python",
   "nbconvert_exporter": "python",
   "pygments_lexer": "ipython3",
   "version": "3.12.1"
  }
 },
 "nbformat": 4,
 "nbformat_minor": 4
}
