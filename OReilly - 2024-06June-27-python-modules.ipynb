{
 "cells": [
  {
   "cell_type": "markdown",
   "metadata": {},
   "source": [
    "# Agenda: Modules and packages\n",
    "\n",
    "- What are modules? Why do we care about them?\n",
    "- What can a module contain?\n",
    "- The `import` statement\n",
    "- The different forms of `import`\n",
    "- Creating/developing a (simple) module\n",
    "- How do modules even work? (From the inside)\n",
    "- Python's standard library\n",
    "- Modules vs. packages\n",
    "- PyPI, the third-party archive of Python modules/packages\n",
    "- `pip`, which installs modules\n"
   ]
  },
  {
   "cell_type": "markdown",
   "metadata": {},
   "source": [
    "# Intro to modules\n",
    "\n",
    "One of the most important ideas in programming is DRY (don't repeat yourself). If you have code that repeats in your program, you're probably doing something wrong.\n",
    "\n",
    "- If you have several lines in a row that are the same (or close to it), then you can use a loop.\n",
    "- If you have the same code in several places in your program, then you can put them into a function, and invoke the function in various places.\n",
    "- If you have the same code in several different programs, then you'll want to use a *library*.\n",
    "\n",
    "Just about every programming language has libraries. In Python, we call our libraries \"modules.\"\n",
    "\n",
    "What are the advantages of using a module?\n",
    "\n",
    "- We don't have to work as hard; we write the code once, and then refer to it many times.\n",
    "- If/when something goes wrong, we only have to debug/fix the code in one place.\n",
    "- When we read code, there's less to read, and thus to understand/wrap our minds around.\n",
    "- If there's less code, then it will likely run faster.\n",
    "\n",
    "In Python, modules actually do two different things:\n",
    "- They provide us with all of the normal advantages of libraries\n",
    "- Modules also provide us with *namespaces*, ensuring that the variables created in one place don't interfere with those in another place.\n",
    "\n",
    "Python comes with a huge number of modules, right when you download it. These are collectively known as the \"standard library.\" Having the standard library around means that we don't have to write nearly as much code from scratch."
   ]
  },
  {
   "cell_type": "markdown",
   "metadata": {},
   "source": [
    "# Using a module\n",
    "\n",
    "In Python, we can use a module with the `import` statement. There are a bunch of weird things about `import` that you might not have noticed. Let's review them:\n",
    "\n",
    "1. `import` is not a function. So don't use parentheses around its argument.\n",
    "2. `import` is a Python keyword. So you cannot redefine it, even if you want to.\n",
    "3. The argument we give to `import` is not a string. It's not a Python data structure at all. When you `import`, you're really doing two things:\n",
    "    - Creating a new module object, based on the contents of a file on disk\n",
    "    - Defining a variable ... the name that you gave\n",
    "4. If you use an existing variable name after `import`, assuming that it works, you have now overwritten the original value."
   ]
  },
  {
   "cell_type": "code",
   "execution_count": 1,
   "metadata": {},
   "outputs": [],
   "source": [
    "import random"
   ]
  },
  {
   "cell_type": "code",
   "execution_count": 2,
   "metadata": {},
   "outputs": [
    {
     "data": {
      "text/plain": [
       "module"
      ]
     },
     "execution_count": 2,
     "metadata": {},
     "output_type": "execute_result"
    }
   ],
   "source": [
    "type(random)  # what kind of value does the name \"random\" refer to?"
   ]
  },
  {
   "cell_type": "markdown",
   "metadata": {},
   "source": [
    "# Importing stuff from the standard library\n",
    "\n",
    "The standard library is so incredibly huge that there's no need to `import` all of it. Moreover, that would use a ton of memory (and it would take time to load).\n",
    "\n",
    "Some small parts of the standard library are loaded automatically; these are generally referred to as \"builins.\" These things like `str`, `list`, `len`, `dict`, `sum`, etc.\n",
    "\n",
    "But most modules in the standard library are *not* loaded by default, and must be imported."
   ]
  },
  {
   "cell_type": "markdown",
   "metadata": {},
   "source": [
    "# What really happens when we `import`?\n",
    "\n",
    "1. Python looks for the module file\n",
    "    - We cannot specify a file! In other languages, we can give a string, or a path, telling the language where to look. But in Python, we just give the name of the module we want to load.\n",
    "    - Python uses the name that we gave it to look for a file. If we said `import random`, Python looks for `random.py`. That file could be in any of a number of directories; Python looks, one by one, in the locations specified in `sys.path`.\n",
    "2. Once the module is loaded, the variable we specified is now assigned to the module object."
   ]
  },
  {
   "cell_type": "code",
   "execution_count": 3,
   "metadata": {},
   "outputs": [
    {
     "data": {
      "text/plain": [
       "['/Users/reuven/Courses/Current/OReilly-2024-06June-27-python-modules',\n",
       " '/Users/reuven/.pyenv/versions/3.12.1/lib/python312.zip',\n",
       " '/Users/reuven/.pyenv/versions/3.12.1/lib/python3.12',\n",
       " '/Users/reuven/.pyenv/versions/3.12.1/lib/python3.12/lib-dynload',\n",
       " '',\n",
       " '/Users/reuven/.pyenv/versions/3.12.1/lib/python3.12/site-packages']"
      ]
     },
     "execution_count": 3,
     "metadata": {},
     "output_type": "execute_result"
    }
   ],
   "source": [
    "# what is in sys.path?\n",
    "\n",
    "import sys    # this module is special -- it's already loaded into memory, but the variable is not defined without import\n",
    "\n",
    "sys.path   # this is a list of strings, telling us where Python will look for a module we want to load"
   ]
  },
  {
   "cell_type": "markdown",
   "metadata": {},
   "source": [
    "When I say `import random`, Python looks in each directory in `sys.path` for `random.py`.\n",
    "\n",
    "The first directory in `sys.path` is always the one in which the program is located. That allows it to easily import modules in the same directory.\n",
    "\n",
    "It looks:\n",
    "- In the current directory\n",
    "- In the Python standard library\n",
    "- In the list of modules/packages we downloaded from PyPI and installed with `pip`\n",
    "\n",
    "What happens if there are two files with the same name, one in the current directory and the second in the standard library?\n",
    "\n",
    "**BAD THINGS** happen. Don't do that!"
   ]
  },
  {
   "cell_type": "markdown",
   "metadata": {},
   "source": [
    "# What is in a module?\n",
    "\n",
    "A module object is actually pretty simple; it's a warehouse for storing names. Those names are all \"attributes,\" coming after the module's name, separated by a dot, `.`.\n",
    "\n",
    "If I loaded module `random`, then there will be a bunch of names, `random.SOMETHING`, defined in the module. Those could be:\n",
    "\n",
    "- data\n",
    "- functions\n",
    "- classes (new data types)\n",
    "\n",
    "A module can contain any or all of these!\n",
    "\n",
    "How can you know what names are defined, and what they do?"
   ]
  },
  {
   "cell_type": "code",
   "execution_count": 4,
   "metadata": {},
   "outputs": [
    {
     "data": {
      "text/plain": [
       "['BPF',\n",
       " 'LOG4',\n",
       " 'NV_MAGICCONST',\n",
       " 'RECIP_BPF',\n",
       " 'Random',\n",
       " 'SG_MAGICCONST',\n",
       " 'SystemRandom',\n",
       " 'TWOPI',\n",
       " '_ONE',\n",
       " '_Sequence',\n",
       " '__all__',\n",
       " '__builtins__',\n",
       " '__cached__',\n",
       " '__doc__',\n",
       " '__file__',\n",
       " '__loader__',\n",
       " '__name__',\n",
       " '__package__',\n",
       " '__spec__',\n",
       " '_accumulate',\n",
       " '_acos',\n",
       " '_bisect',\n",
       " '_ceil',\n",
       " '_cos',\n",
       " '_e',\n",
       " '_exp',\n",
       " '_fabs',\n",
       " '_floor',\n",
       " '_index',\n",
       " '_inst',\n",
       " '_isfinite',\n",
       " '_lgamma',\n",
       " '_log',\n",
       " '_log2',\n",
       " '_os',\n",
       " '_pi',\n",
       " '_random',\n",
       " '_repeat',\n",
       " '_sha512',\n",
       " '_sin',\n",
       " '_sqrt',\n",
       " '_test',\n",
       " '_test_generator',\n",
       " '_urandom',\n",
       " '_warn',\n",
       " 'betavariate',\n",
       " 'binomialvariate',\n",
       " 'choice',\n",
       " 'choices',\n",
       " 'expovariate',\n",
       " 'gammavariate',\n",
       " 'gauss',\n",
       " 'getrandbits',\n",
       " 'getstate',\n",
       " 'lognormvariate',\n",
       " 'normalvariate',\n",
       " 'paretovariate',\n",
       " 'randbytes',\n",
       " 'randint',\n",
       " 'random',\n",
       " 'randrange',\n",
       " 'sample',\n",
       " 'seed',\n",
       " 'setstate',\n",
       " 'shuffle',\n",
       " 'triangular',\n",
       " 'uniform',\n",
       " 'vonmisesvariate',\n",
       " 'weibullvariate']"
      ]
     },
     "execution_count": 4,
     "metadata": {},
     "output_type": "execute_result"
    }
   ],
   "source": [
    "# get a list of defined names (attributes) in a module with the \"dir\" function\n",
    "\n",
    "dir(random)"
   ]
  },
  {
   "cell_type": "code",
   "execution_count": 5,
   "metadata": {},
   "outputs": [
    {
     "name": "stdout",
     "output_type": "stream",
     "text": [
      "Help on method choice in module random:\n",
      "\n",
      "choice(seq) method of random.Random instance\n",
      "    Choose a random element from a non-empty sequence.\n",
      "\n"
     ]
    }
   ],
   "source": [
    "help(random.choice)"
   ]
  },
  {
   "cell_type": "code",
   "execution_count": 6,
   "metadata": {},
   "outputs": [
    {
     "ename": "NameError",
     "evalue": "name 'randint' is not defined",
     "output_type": "error",
     "traceback": [
      "\u001b[0;31m---------------------------------------------------------------------------\u001b[0m",
      "\u001b[0;31mNameError\u001b[0m                                 Traceback (most recent call last)",
      "Cell \u001b[0;32mIn[6], line 4\u001b[0m\n\u001b[1;32m      1\u001b[0m \u001b[38;5;66;03m# how do I use a function defined in a module?\u001b[39;00m\n\u001b[1;32m      2\u001b[0m \u001b[38;5;66;03m# answer: just like any other function! Don't forget to use the module name, though.\u001b[39;00m\n\u001b[0;32m----> 4\u001b[0m \u001b[43mrandint\u001b[49m(\u001b[38;5;241m0\u001b[39m, \u001b[38;5;241m100\u001b[39m)\n",
      "\u001b[0;31mNameError\u001b[0m: name 'randint' is not defined"
     ]
    }
   ],
   "source": [
    "# how do I use a function defined in a module?\n",
    "# answer: just like any other function! Don't forget to use the module name, though.\n",
    "\n",
    "randint(0, 100)"
   ]
  },
  {
   "cell_type": "code",
   "execution_count": 7,
   "metadata": {},
   "outputs": [
    {
     "data": {
      "text/plain": [
       "57"
      ]
     },
     "execution_count": 7,
     "metadata": {},
     "output_type": "execute_result"
    }
   ],
   "source": [
    "# I'm running the randint function\n",
    "# that was defined in the random module\n",
    "\n",
    "random.randint(0, 100)"
   ]
  },
  {
   "cell_type": "markdown",
   "metadata": {},
   "source": [
    "# Exercise: Guessing game\n",
    "\n",
    "1. Use the `random` module to generate a random integer from 0 to 100.\n",
    "2. Repeatedly ask the user to guess the number:\n",
    "    - If they get it right, then congratulate them and stop the program\n",
    "    - If they're too low or high, tell them, and let them try again"
   ]
  },
  {
   "cell_type": "code",
   "execution_count": 8,
   "metadata": {},
   "outputs": [
    {
     "name": "stdin",
     "output_type": "stream",
     "text": [
      "Enter your guess:  50\n"
     ]
    },
    {
     "name": "stdout",
     "output_type": "stream",
     "text": [
      "Too big; try again!\n"
     ]
    },
    {
     "name": "stdin",
     "output_type": "stream",
     "text": [
      "Enter your guess:  25\n"
     ]
    },
    {
     "name": "stdout",
     "output_type": "stream",
     "text": [
      "Too small; try again!\n"
     ]
    },
    {
     "name": "stdin",
     "output_type": "stream",
     "text": [
      "Enter your guess:  32\n"
     ]
    },
    {
     "name": "stdout",
     "output_type": "stream",
     "text": [
      "Too small; try again!\n"
     ]
    },
    {
     "name": "stdin",
     "output_type": "stream",
     "text": [
      "Enter your guess:  37\n"
     ]
    },
    {
     "name": "stdout",
     "output_type": "stream",
     "text": [
      "Too small; try again!\n"
     ]
    },
    {
     "name": "stdin",
     "output_type": "stream",
     "text": [
      "Enter your guess:  42\n"
     ]
    },
    {
     "name": "stdout",
     "output_type": "stream",
     "text": [
      "You got it!\n"
     ]
    }
   ],
   "source": [
    "import random \n",
    "\n",
    "number = random.randint(0, 100)\n",
    "\n",
    "while True:\n",
    "    guess = input('Enter your guess: ').strip()\n",
    "\n",
    "    n = int(guess)  # assume that the user gave us numeric input\n",
    "\n",
    "    if n == number:\n",
    "        print('You got it!')\n",
    "        break\n",
    "    elif n < number:\n",
    "        print('Too small; try again!')\n",
    "    else:\n",
    "        print('Too big; try again!')"
   ]
  },
  {
   "cell_type": "code",
   "execution_count": 10,
   "metadata": {},
   "outputs": [
    {
     "data": {
      "text/plain": [
       "[(20, 4), (30, 3), (40, 2), (10, 1), (50, 1)]"
      ]
     },
     "execution_count": 10,
     "metadata": {},
     "output_type": "execute_result"
    }
   ],
   "source": [
    "# the Counter class in the collectiosn module allows us to \n",
    "# count how many times an item appears in a sequence\n",
    "\n",
    "from collections import Counter\n",
    "\n",
    "c = Counter([10, 20, 30, 20, 30, 40, 20, 20, 30, 40, 50])\n",
    "c.most_common()"
   ]
  },
  {
   "cell_type": "code",
   "execution_count": null,
   "metadata": {},
   "outputs": [],
   "source": []
  }
 ],
 "metadata": {
  "kernelspec": {
   "display_name": "Python 3 (ipykernel)",
   "language": "python",
   "name": "python3"
  },
  "language_info": {
   "codemirror_mode": {
    "name": "ipython",
    "version": 3
   },
   "file_extension": ".py",
   "mimetype": "text/x-python",
   "name": "python",
   "nbconvert_exporter": "python",
   "pygments_lexer": "ipython3",
   "version": "3.12.1"
  }
 },
 "nbformat": 4,
 "nbformat_minor": 4
}
