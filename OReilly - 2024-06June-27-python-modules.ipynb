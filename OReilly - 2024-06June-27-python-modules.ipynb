{
 "cells": [
  {
   "cell_type": "markdown",
   "metadata": {},
   "source": [
    "# Agenda: Modules and packages\n",
    "\n",
    "- What are modules? Why do we care about them?\n",
    "- What can a module contain?\n",
    "- The `import` statement\n",
    "- The different forms of `import`\n",
    "- Creating/developing a (simple) module\n",
    "- How do modules even work? (From the inside)\n",
    "- Python's standard library\n",
    "- Modules vs. packages\n",
    "- PyPI, the third-party archive of Python modules/packages\n",
    "- `pip`, which installs modules\n"
   ]
  },
  {
   "cell_type": "markdown",
   "metadata": {},
   "source": [
    "# Intro to modules\n",
    "\n",
    "One of the most important ideas in programming is DRY (don't repeat yourself). If you have code that repeats in your program, you're probably doing something wrong.\n",
    "\n",
    "- If you have several lines in a row that are the same (or close to it), then you can use a loop.\n",
    "- If you have the same code in several places in your program, then you can put them into a function, and invoke the function in various places.\n",
    "- If you have the same code in several different programs, then you'll want to use a *library*.\n",
    "\n",
    "Just about every programming language has libraries. In Python, we call our libraries \"modules.\"\n",
    "\n",
    "What are the advantages of using a module?\n",
    "\n",
    "- We don't have to work as hard; we write the code once, and then refer to it many times.\n",
    "- If/when something goes wrong, we only have to debug/fix the code in one place.\n",
    "- When we read code, there's less to read, and thus to understand/wrap our minds around.\n",
    "- If there's less code, then it will likely run faster.\n",
    "\n",
    "In Python, modules actually do two different things:\n",
    "- They provide us with all of the normal advantages of libraries\n",
    "- Modules also provide us with *namespaces*, ensuring that the variables created in one place don't interfere with those in another place."
   ]
  },
  {
   "cell_type": "code",
   "execution_count": null,
   "metadata": {},
   "outputs": [],
   "source": []
  }
 ],
 "metadata": {
  "kernelspec": {
   "display_name": "Python 3 (ipykernel)",
   "language": "python",
   "name": "python3"
  },
  "language_info": {
   "codemirror_mode": {
    "name": "ipython",
    "version": 3
   },
   "file_extension": ".py",
   "mimetype": "text/x-python",
   "name": "python",
   "nbconvert_exporter": "python",
   "pygments_lexer": "ipython3",
   "version": "3.12.1"
  }
 },
 "nbformat": 4,
 "nbformat_minor": 4
}
