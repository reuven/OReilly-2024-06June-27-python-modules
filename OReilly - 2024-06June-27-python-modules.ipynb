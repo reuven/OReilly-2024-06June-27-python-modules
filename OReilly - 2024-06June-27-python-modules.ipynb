{
 "cells": [
  {
   "cell_type": "markdown",
   "metadata": {},
   "source": [
    "# Agenda: Modules and packages\n",
    "\n",
    "- What are modules? Why do we care about them?\n",
    "- What can a module contain?\n",
    "- The `import` statement\n",
    "- The different forms of `import`\n",
    "- Creating/developing a (simple) module\n",
    "- How do modules even work? (From the inside)\n",
    "- Python's standard library\n",
    "- Modules vs. packages\n",
    "- PyPI, the third-party archive of Python modules/packages\n",
    "- `pip`, which installs modules\n"
   ]
  },
  {
   "cell_type": "code",
   "execution_count": null,
   "metadata": {},
   "outputs": [],
   "source": []
  }
 ],
 "metadata": {
  "kernelspec": {
   "display_name": "Python 3 (ipykernel)",
   "language": "python",
   "name": "python3"
  },
  "language_info": {
   "codemirror_mode": {
    "name": "ipython",
    "version": 3
   },
   "file_extension": ".py",
   "mimetype": "text/x-python",
   "name": "python",
   "nbconvert_exporter": "python",
   "pygments_lexer": "ipython3",
   "version": "3.12.1"
  }
 },
 "nbformat": 4,
 "nbformat_minor": 4
}
